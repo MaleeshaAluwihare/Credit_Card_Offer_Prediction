{
 "cells": [
  {
   "cell_type": "markdown",
   "metadata": {},
   "source": [
    "Import nessasary libraries"
   ]
  },
  {
   "cell_type": "code",
   "execution_count": 45,
   "metadata": {},
   "outputs": [],
   "source": [
    "import pandas as pd\n",
    "import numpy as np\n",
    "from joblib import dump\n",
    "\n",
    "from xgboost import XGBRegressor\n",
    "from xgboost import plot_importance\n",
    "\n",
    "from sklearn.model_selection import train_test_split\n",
    "from sklearn.metrics import mean_squared_error, mean_absolute_error, r2_score\n",
    "import matplotlib.pyplot as plt"
   ]
  },
  {
   "cell_type": "markdown",
   "metadata": {},
   "source": [
    "import the dataset"
   ]
  },
  {
   "cell_type": "code",
   "execution_count": 46,
   "metadata": {},
   "outputs": [],
   "source": [
    "Dataset = pd.read_csv('../Dataset/dataset.csv')"
   ]
  },
  {
   "cell_type": "code",
   "execution_count": 47,
   "metadata": {},
   "outputs": [
    {
     "name": "stdout",
     "output_type": "stream",
     "text": [
      "<class 'pandas.core.frame.DataFrame'>\n",
      "RangeIndex: 10108 entries, 0 to 10107\n",
      "Data columns (total 15 columns):\n",
      " #   Column                   Non-Null Count  Dtype \n",
      "---  ------                   --------------  ----- \n",
      " 0   Client_Num               10108 non-null  int64 \n",
      " 1   Customer_Age             10108 non-null  int64 \n",
      " 2   Gender                   10108 non-null  object\n",
      " 3   Dependent_Count          10108 non-null  int64 \n",
      " 4   Education_Level          10108 non-null  object\n",
      " 5   Marital_Status           10108 non-null  object\n",
      " 6   state_cd                 10108 non-null  object\n",
      " 7   Zipcode                  10108 non-null  int64 \n",
      " 8   Car_Owner                10108 non-null  object\n",
      " 9   House_Owner              10108 non-null  object\n",
      " 10  Personal_loan            10108 non-null  object\n",
      " 11  contact                  10108 non-null  object\n",
      " 12  Customer_Job             10108 non-null  object\n",
      " 13  Income                   10108 non-null  int64 \n",
      " 14  Cust_Satisfaction_Score  10108 non-null  int64 \n",
      "dtypes: int64(6), object(9)\n",
      "memory usage: 1.2+ MB\n"
     ]
    }
   ],
   "source": [
    "Dataset.info()"
   ]
  },
  {
   "cell_type": "code",
   "execution_count": 48,
   "metadata": {},
   "outputs": [
    {
     "data": {
      "text/plain": [
       "['Client_Num',\n",
       " 'Customer_Age',\n",
       " 'Dependent_Count',\n",
       " 'Zipcode',\n",
       " 'Income',\n",
       " 'Cust_Satisfaction_Score']"
      ]
     },
     "execution_count": 48,
     "metadata": {},
     "output_type": "execute_result"
    }
   ],
   "source": [
    "#selecting numerical columns\n",
    "numerical_cols = Dataset.select_dtypes(include=['int64','float64']).columns.tolist()\n",
    "\n",
    "numerical_cols"
   ]
  },
  {
   "cell_type": "code",
   "execution_count": 49,
   "metadata": {},
   "outputs": [
    {
     "data": {
      "text/plain": [
       "['Gender',\n",
       " 'Education_Level',\n",
       " 'Marital_Status',\n",
       " 'state_cd',\n",
       " 'Car_Owner',\n",
       " 'House_Owner',\n",
       " 'Personal_loan',\n",
       " 'contact',\n",
       " 'Customer_Job']"
      ]
     },
     "execution_count": 49,
     "metadata": {},
     "output_type": "execute_result"
    }
   ],
   "source": [
    "#selecting categorical columns\n",
    "categorical_cols = Dataset.select_dtypes(include=['object']).columns.tolist()\n",
    "\n",
    "categorical_cols"
   ]
  },
  {
   "cell_type": "markdown",
   "metadata": {},
   "source": [
    "Checking each column for unknown values"
   ]
  },
  {
   "cell_type": "code",
   "execution_count": 50,
   "metadata": {},
   "outputs": [
    {
     "name": "stdout",
     "output_type": "stream",
     "text": [
      "Column 'Education_Level' has 1515 'Unknown' values.\n",
      "Column 'Marital_Status' has 744 'Unknown' values.\n",
      "Column 'contact' has 1947 'Unknown' values.\n"
     ]
    }
   ],
   "source": [
    "unknown_columns = {}\n",
    "\n",
    "for column in Dataset.columns:\n",
    "    unknown_count =  Dataset[column].astype(str).str.lower().eq('unknown').sum()\n",
    "    if unknown_count > 0:\n",
    "        unknown_columns[column] = unknown_count\n",
    "\n",
    "for column, count in unknown_columns.items():\n",
    "    print(f\"Column '{column}' has {count} 'Unknown' values.\")"
   ]
  },
  {
   "cell_type": "markdown",
   "metadata": {},
   "source": [
    "Replace the unknown values with a proper values"
   ]
  },
  {
   "cell_type": "code",
   "execution_count": 51,
   "metadata": {},
   "outputs": [],
   "source": [
    "# Replace 'Unknown' with NaN\n",
    "\n",
    "for column in unknown_columns:\n",
    "    Dataset[column] = Dataset[column].astype(str).str.lower().replace('unknown', np.nan)"
   ]
  },
  {
   "cell_type": "code",
   "execution_count": 52,
   "metadata": {},
   "outputs": [],
   "source": [
    "#Filling the empty values\n",
    "\n",
    "for column in unknown_columns:\n",
    "    if Dataset[column].isnull().any():\n",
    "        Dataset[column] = Dataset[column].fillna(Dataset[column].mode()[0])"
   ]
  },
  {
   "cell_type": "code",
   "execution_count": 53,
   "metadata": {},
   "outputs": [
    {
     "name": "stdout",
     "output_type": "stream",
     "text": [
      "Client_Num                 0\n",
      "Customer_Age               0\n",
      "Gender                     0\n",
      "Dependent_Count            0\n",
      "Education_Level            0\n",
      "Marital_Status             0\n",
      "state_cd                   0\n",
      "Zipcode                    0\n",
      "Car_Owner                  0\n",
      "House_Owner                0\n",
      "Personal_loan              0\n",
      "contact                    0\n",
      "Customer_Job               0\n",
      "Income                     0\n",
      "Cust_Satisfaction_Score    0\n",
      "dtype: int64\n"
     ]
    }
   ],
   "source": [
    "print(Dataset.isnull().sum())"
   ]
  },
  {
   "cell_type": "code",
   "execution_count": null,
   "metadata": {},
   "outputs": [],
   "source": []
  }
 ],
 "metadata": {
  "kernelspec": {
   "display_name": "Python 3",
   "language": "python",
   "name": "python3"
  },
  "language_info": {
   "codemirror_mode": {
    "name": "ipython",
    "version": 3
   },
   "file_extension": ".py",
   "mimetype": "text/x-python",
   "name": "python",
   "nbconvert_exporter": "python",
   "pygments_lexer": "ipython3",
   "version": "3.12.3"
  }
 },
 "nbformat": 4,
 "nbformat_minor": 2
}
