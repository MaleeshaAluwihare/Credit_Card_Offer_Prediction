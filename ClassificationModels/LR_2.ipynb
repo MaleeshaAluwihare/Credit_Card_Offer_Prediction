{
 "cells": [
  {
   "cell_type": "code",
   "execution_count": 1,
   "metadata": {},
   "outputs": [],
   "source": [
    "import numpy as np\n",
    "import pandas as pd\n",
    "import matplotlib.pyplot as plt\n",
    "import seaborn as sns\n",
    "from sklearn.cluster import KMeans\n",
    "from sklearn.impute import SimpleImputer\n",
    "\n",
    "from sklearn.preprocessing import OneHotEncoder,LabelEncoder\n",
    "from sklearn.compose import ColumnTransformer\n",
    "from sklearn.model_selection import GridSearchCV, RandomizedSearchCV, StratifiedKFold, train_test_split\n",
    "from imblearn.over_sampling import RandomOverSampler\n",
    "from sklearn.metrics import accuracy_score,classification_report\n",
    "\n",
    "from sklearn.ensemble import RandomForestClassifier\n",
    "from sklearn.linear_model import LogisticRegression\n"
   ]
  },
  {
   "cell_type": "code",
   "execution_count": 2,
   "metadata": {},
   "outputs": [],
   "source": [
    "path = '../Dataset/bank_customer.csv'\n",
    "df = pd.read_csv(path)"
   ]
  },
  {
   "cell_type": "code",
   "execution_count": 3,
   "metadata": {},
   "outputs": [
    {
     "data": {
      "text/html": [
       "<div>\n",
       "<style scoped>\n",
       "    .dataframe tbody tr th:only-of-type {\n",
       "        vertical-align: middle;\n",
       "    }\n",
       "\n",
       "    .dataframe tbody tr th {\n",
       "        vertical-align: top;\n",
       "    }\n",
       "\n",
       "    .dataframe thead th {\n",
       "        text-align: right;\n",
       "    }\n",
       "</style>\n",
       "<table border=\"1\" class=\"dataframe\">\n",
       "  <thead>\n",
       "    <tr style=\"text-align: right;\">\n",
       "      <th></th>\n",
       "      <th>Unnamed: 0</th>\n",
       "      <th>ID</th>\n",
       "      <th>Gender</th>\n",
       "      <th>Month_Income</th>\n",
       "      <th>Age</th>\n",
       "      <th>Region_Code</th>\n",
       "      <th>Occupation</th>\n",
       "      <th>Credit_Score</th>\n",
       "      <th>Loan_Status</th>\n",
       "      <th>Existing_Credit_Cards</th>\n",
       "      <th>Avg_Account_Balance</th>\n",
       "      <th>Account_Category</th>\n",
       "      <th>Tenure_with_Bank</th>\n",
       "      <th>Lead_Outcome</th>\n",
       "    </tr>\n",
       "  </thead>\n",
       "  <tbody>\n",
       "    <tr>\n",
       "      <th>0</th>\n",
       "      <td>0</td>\n",
       "      <td>VBENBARO</td>\n",
       "      <td>Male</td>\n",
       "      <td>96345.0</td>\n",
       "      <td>29</td>\n",
       "      <td>254</td>\n",
       "      <td>Other</td>\n",
       "      <td>623</td>\n",
       "      <td>Yes</td>\n",
       "      <td>4</td>\n",
       "      <td>742366</td>\n",
       "      <td>X1</td>\n",
       "      <td>2</td>\n",
       "      <td>No</td>\n",
       "    </tr>\n",
       "    <tr>\n",
       "      <th>1</th>\n",
       "      <td>1</td>\n",
       "      <td>CCMEWNKY</td>\n",
       "      <td>Male</td>\n",
       "      <td>85640.0</td>\n",
       "      <td>43</td>\n",
       "      <td>268</td>\n",
       "      <td>Other</td>\n",
       "      <td>629</td>\n",
       "      <td>NaN</td>\n",
       "      <td>0</td>\n",
       "      <td>925537</td>\n",
       "      <td>X2</td>\n",
       "      <td>1</td>\n",
       "      <td>No</td>\n",
       "    </tr>\n",
       "    <tr>\n",
       "      <th>2</th>\n",
       "      <td>2</td>\n",
       "      <td>VK3KGA9M</td>\n",
       "      <td>Male</td>\n",
       "      <td>96345.0</td>\n",
       "      <td>31</td>\n",
       "      <td>270</td>\n",
       "      <td>Salaried</td>\n",
       "      <td>357</td>\n",
       "      <td>No</td>\n",
       "      <td>0</td>\n",
       "      <td>215949</td>\n",
       "      <td>X1</td>\n",
       "      <td>1</td>\n",
       "      <td>No</td>\n",
       "    </tr>\n",
       "    <tr>\n",
       "      <th>3</th>\n",
       "      <td>3</td>\n",
       "      <td>TT8RPZVC</td>\n",
       "      <td>Male</td>\n",
       "      <td>85640.0</td>\n",
       "      <td>29</td>\n",
       "      <td>272</td>\n",
       "      <td>Other</td>\n",
       "      <td>356</td>\n",
       "      <td>No</td>\n",
       "      <td>0</td>\n",
       "      <td>868070</td>\n",
       "      <td>X1</td>\n",
       "      <td>3</td>\n",
       "      <td>No</td>\n",
       "    </tr>\n",
       "    <tr>\n",
       "      <th>4</th>\n",
       "      <td>4</td>\n",
       "      <td>SHQZEYTZ</td>\n",
       "      <td>Female</td>\n",
       "      <td>42820.0</td>\n",
       "      <td>29</td>\n",
       "      <td>270</td>\n",
       "      <td>Other</td>\n",
       "      <td>572</td>\n",
       "      <td>No</td>\n",
       "      <td>0</td>\n",
       "      <td>657087</td>\n",
       "      <td>X1</td>\n",
       "      <td>3</td>\n",
       "      <td>No</td>\n",
       "    </tr>\n",
       "  </tbody>\n",
       "</table>\n",
       "</div>"
      ],
      "text/plain": [
       "   Unnamed: 0        ID  Gender  Month_Income  Age  Region_Code Occupation  \\\n",
       "0           0  VBENBARO    Male       96345.0   29          254      Other   \n",
       "1           1  CCMEWNKY    Male       85640.0   43          268      Other   \n",
       "2           2  VK3KGA9M    Male       96345.0   31          270   Salaried   \n",
       "3           3  TT8RPZVC    Male       85640.0   29          272      Other   \n",
       "4           4  SHQZEYTZ  Female       42820.0   29          270      Other   \n",
       "\n",
       "   Credit_Score Loan_Status  Existing_Credit_Cards  Avg_Account_Balance  \\\n",
       "0           623         Yes                      4               742366   \n",
       "1           629         NaN                      0               925537   \n",
       "2           357          No                      0               215949   \n",
       "3           356          No                      0               868070   \n",
       "4           572          No                      0               657087   \n",
       "\n",
       "  Account_Category  Tenure_with_Bank Lead_Outcome  \n",
       "0               X1                 2           No  \n",
       "1               X2                 1           No  \n",
       "2               X1                 1           No  \n",
       "3               X1                 3           No  \n",
       "4               X1                 3           No  "
      ]
     },
     "execution_count": 3,
     "metadata": {},
     "output_type": "execute_result"
    }
   ],
   "source": [
    "df.head()"
   ]
  },
  {
   "cell_type": "code",
   "execution_count": 4,
   "metadata": {},
   "outputs": [],
   "source": [
    "#mapping the Account_Category\t\n",
    "category_mapping = {\n",
    "    'X1': 'Savings Account',\n",
    "    'X2': 'Current Account',\n",
    "    'X3': 'Senior Citizens Account',\n",
    "    'X4': 'Investment Account'\n",
    "}\n",
    "\n",
    "# Replace the values in the Account_Category column\n",
    "df['Account_Category'] = df['Account_Category'].replace(category_mapping)"
   ]
  },
  {
   "cell_type": "code",
   "execution_count": 5,
   "metadata": {},
   "outputs": [
    {
     "data": {
      "text/plain": [
       "0"
      ]
     },
     "execution_count": 5,
     "metadata": {},
     "output_type": "execute_result"
    }
   ],
   "source": [
    "df.duplicated().sum()"
   ]
  },
  {
   "cell_type": "code",
   "execution_count": 6,
   "metadata": {},
   "outputs": [
    {
     "name": "stdout",
     "output_type": "stream",
     "text": [
      "<class 'pandas.core.frame.DataFrame'>\n",
      "RangeIndex: 105000 entries, 0 to 104999\n",
      "Data columns (total 14 columns):\n",
      " #   Column                 Non-Null Count   Dtype  \n",
      "---  ------                 --------------   -----  \n",
      " 0   Unnamed: 0             105000 non-null  int64  \n",
      " 1   ID                     105000 non-null  object \n",
      " 2   Gender                 105000 non-null  object \n",
      " 3   Month_Income           102514 non-null  float64\n",
      " 4   Age                    105000 non-null  int64  \n",
      " 5   Region_Code            105000 non-null  int64  \n",
      " 6   Occupation             102486 non-null  object \n",
      " 7   Credit_Score           105000 non-null  int64  \n",
      " 8   Loan_Status            92511 non-null   object \n",
      " 9   Existing_Credit_Cards  105000 non-null  int64  \n",
      " 10  Avg_Account_Balance    105000 non-null  int64  \n",
      " 11  Account_Category       105000 non-null  object \n",
      " 12  Tenure_with_Bank       105000 non-null  int64  \n",
      " 13  Lead_Outcome           105000 non-null  object \n",
      "dtypes: float64(1), int64(7), object(6)\n",
      "memory usage: 11.2+ MB\n"
     ]
    }
   ],
   "source": [
    "df.info()"
   ]
  },
  {
   "cell_type": "code",
   "execution_count": 7,
   "metadata": {},
   "outputs": [
    {
     "name": "stdout",
     "output_type": "stream",
     "text": [
      "Numerical columns with missing values: {'Month_Income': 2486}\n",
      "Categorical columns with missing values: {'Occupation': 2514, 'Loan_Status': 12489}\n"
     ]
    }
   ],
   "source": [
    "missing_values = df.isna().sum().to_dict()\n",
    "\n",
    "# Filter columns with missing values\n",
    "columns_with_missing_values = {k: v for k, v in missing_values.items() if v > 0}\n",
    "\n",
    "column_data_types = df.dtypes.to_dict()\n",
    "\n",
    "numerical_missing = {k: v for k, v in columns_with_missing_values.items() if column_data_types[k] in ['int64', 'float64']}\n",
    "categorical_missing = {k: v for k, v in columns_with_missing_values.items() if column_data_types[k] == 'object'}\n",
    "\n",
    "print(\"Numerical columns with missing values:\", numerical_missing)\n",
    "print(\"Categorical columns with missing values:\", categorical_missing)"
   ]
  },
  {
   "cell_type": "code",
   "execution_count": 8,
   "metadata": {},
   "outputs": [
    {
     "name": "stdout",
     "output_type": "stream",
     "text": [
      "Number of rows before dropping: 105000\n",
      "Number of rows after dropping: 88143\n",
      "Unnamed: 0               0\n",
      "ID                       0\n",
      "Gender                   0\n",
      "Month_Income             0\n",
      "Age                      0\n",
      "Region_Code              0\n",
      "Occupation               0\n",
      "Credit_Score             0\n",
      "Loan_Status              0\n",
      "Existing_Credit_Cards    0\n",
      "Avg_Account_Balance      0\n",
      "Account_Category         0\n",
      "Tenure_with_Bank         0\n",
      "Lead_Outcome             0\n",
      "dtype: int64\n"
     ]
    }
   ],
   "source": [
    "print(f\"Number of rows before dropping: {df.shape[0]}\")\n",
    "\n",
    "# Step 1: Drop rows with any missing values\n",
    "df = df.dropna()\n",
    "\n",
    "# Step 2: Display the number of rows after dropping\n",
    "print(f\"Number of rows after dropping: {df.shape[0]}\")\n",
    "\n",
    "# Optionally, check how many missing values are left (should be zero)\n",
    "print(df.isnull().sum())"
   ]
  },
  {
   "cell_type": "code",
   "execution_count": 9,
   "metadata": {},
   "outputs": [],
   "source": [
    "df = df.drop(['Unnamed: 0','ID', 'Region_Code'], axis=1)"
   ]
  },
  {
   "cell_type": "code",
   "execution_count": 10,
   "metadata": {},
   "outputs": [
    {
     "data": {
      "text/html": [
       "<div>\n",
       "<style scoped>\n",
       "    .dataframe tbody tr th:only-of-type {\n",
       "        vertical-align: middle;\n",
       "    }\n",
       "\n",
       "    .dataframe tbody tr th {\n",
       "        vertical-align: top;\n",
       "    }\n",
       "\n",
       "    .dataframe thead th {\n",
       "        text-align: right;\n",
       "    }\n",
       "</style>\n",
       "<table border=\"1\" class=\"dataframe\">\n",
       "  <thead>\n",
       "    <tr style=\"text-align: right;\">\n",
       "      <th></th>\n",
       "      <th>Gender</th>\n",
       "      <th>Month_Income</th>\n",
       "      <th>Age</th>\n",
       "      <th>Occupation</th>\n",
       "      <th>Credit_Score</th>\n",
       "      <th>Loan_Status</th>\n",
       "      <th>Existing_Credit_Cards</th>\n",
       "      <th>Avg_Account_Balance</th>\n",
       "      <th>Account_Category</th>\n",
       "      <th>Tenure_with_Bank</th>\n",
       "      <th>Lead_Outcome</th>\n",
       "    </tr>\n",
       "  </thead>\n",
       "  <tbody>\n",
       "    <tr>\n",
       "      <th>0</th>\n",
       "      <td>Male</td>\n",
       "      <td>96345.0</td>\n",
       "      <td>29</td>\n",
       "      <td>Other</td>\n",
       "      <td>623</td>\n",
       "      <td>Yes</td>\n",
       "      <td>4</td>\n",
       "      <td>742366</td>\n",
       "      <td>Savings Account</td>\n",
       "      <td>2</td>\n",
       "      <td>No</td>\n",
       "    </tr>\n",
       "    <tr>\n",
       "      <th>2</th>\n",
       "      <td>Male</td>\n",
       "      <td>96345.0</td>\n",
       "      <td>31</td>\n",
       "      <td>Salaried</td>\n",
       "      <td>357</td>\n",
       "      <td>No</td>\n",
       "      <td>0</td>\n",
       "      <td>215949</td>\n",
       "      <td>Savings Account</td>\n",
       "      <td>1</td>\n",
       "      <td>No</td>\n",
       "    </tr>\n",
       "    <tr>\n",
       "      <th>3</th>\n",
       "      <td>Male</td>\n",
       "      <td>85640.0</td>\n",
       "      <td>29</td>\n",
       "      <td>Other</td>\n",
       "      <td>356</td>\n",
       "      <td>No</td>\n",
       "      <td>0</td>\n",
       "      <td>868070</td>\n",
       "      <td>Savings Account</td>\n",
       "      <td>3</td>\n",
       "      <td>No</td>\n",
       "    </tr>\n",
       "    <tr>\n",
       "      <th>4</th>\n",
       "      <td>Female</td>\n",
       "      <td>42820.0</td>\n",
       "      <td>29</td>\n",
       "      <td>Other</td>\n",
       "      <td>572</td>\n",
       "      <td>No</td>\n",
       "      <td>0</td>\n",
       "      <td>657087</td>\n",
       "      <td>Savings Account</td>\n",
       "      <td>3</td>\n",
       "      <td>No</td>\n",
       "    </tr>\n",
       "    <tr>\n",
       "      <th>5</th>\n",
       "      <td>Male</td>\n",
       "      <td>64230.0</td>\n",
       "      <td>60</td>\n",
       "      <td>Self_Employed</td>\n",
       "      <td>478</td>\n",
       "      <td>No</td>\n",
       "      <td>0</td>\n",
       "      <td>4624262</td>\n",
       "      <td>Senior Citizens Account</td>\n",
       "      <td>5</td>\n",
       "      <td>No</td>\n",
       "    </tr>\n",
       "  </tbody>\n",
       "</table>\n",
       "</div>"
      ],
      "text/plain": [
       "   Gender  Month_Income  Age     Occupation  Credit_Score Loan_Status  \\\n",
       "0    Male       96345.0   29          Other           623         Yes   \n",
       "2    Male       96345.0   31       Salaried           357          No   \n",
       "3    Male       85640.0   29          Other           356          No   \n",
       "4  Female       42820.0   29          Other           572          No   \n",
       "5    Male       64230.0   60  Self_Employed           478          No   \n",
       "\n",
       "   Existing_Credit_Cards  Avg_Account_Balance         Account_Category  \\\n",
       "0                      4               742366          Savings Account   \n",
       "2                      0               215949          Savings Account   \n",
       "3                      0               868070          Savings Account   \n",
       "4                      0               657087          Savings Account   \n",
       "5                      0              4624262  Senior Citizens Account   \n",
       "\n",
       "   Tenure_with_Bank Lead_Outcome  \n",
       "0                 2           No  \n",
       "2                 1           No  \n",
       "3                 3           No  \n",
       "4                 3           No  \n",
       "5                 5           No  "
      ]
     },
     "execution_count": 10,
     "metadata": {},
     "output_type": "execute_result"
    }
   ],
   "source": [
    "df.head()"
   ]
  },
  {
   "cell_type": "code",
   "execution_count": 11,
   "metadata": {},
   "outputs": [
    {
     "data": {
      "image/png": "[encoded data removed]",
      "text/plain": [
       "<Figure size 1000x500 with 2 Axes>"
      ]
     },
     "metadata": {},
     "output_type": "display_data"
    }
   ],
   "source": [
    "columns_with_outliers = ['Month_Income', 'Avg_Account_Balance']\n",
    "\n",
    "plt.figure(figsize=(10, 5))\n",
    "\n",
    "for i, column in enumerate(columns_with_outliers, 1):\n",
    "    plt.subplot(1, len(columns_with_outliers), i)\n",
    "    sns.boxplot(y=df[column])\n",
    "    plt.title(f'Boxplot of {column}')\n",
    "    \n",
    "plt.tight_layout()\n",
    "plt.show()"
   ]
  },
  {
   "cell_type": "code",
   "execution_count": 12,
   "metadata": {},
   "outputs": [
    {
     "name": "stdout",
     "output_type": "stream",
     "text": [
      "Column: Month_Income\n",
      "Removed 0 outliers.\n",
      "****************************************\n",
      "Column: Age\n",
      "Removed 0 outliers.\n",
      "****************************************\n",
      "Column: Credit_Score\n",
      "Removed 0 outliers.\n",
      "****************************************\n",
      "Column: Existing_Credit_Cards\n",
      "Removed 0 outliers.\n",
      "****************************************\n",
      "Column: Avg_Account_Balance\n",
      "Removed 0 outliers.\n",
      "****************************************\n",
      "Column: Tenure_with_Bank\n",
      "Removed 0 outliers.\n",
      "****************************************\n"
     ]
    }
   ],
   "source": [
    "def remove_outliers_zscore(df, threshold=3):\n",
    "    df_cleaned = df.copy()\n",
    "    \n",
    "    for column in df_cleaned.select_dtypes(include=['float64', 'int64']).columns:\n",
    "        z_scores = (df_cleaned[column] - df_cleaned[column].mean()) / df_cleaned[column].std()\n",
    "        \n",
    "        outliers_condition = np.abs(z_scores) > threshold\n",
    "        \n",
    "        df_cleaned = df_cleaned[outliers_condition]\n",
    "        \n",
    "        print(f\"Column: {column}\")\n",
    "        print(f\"Removed {outliers_condition.sum()} outliers.\")\n",
    "        print(\"*\" * 40)\n",
    "        \n",
    "    return df_cleaned\n",
    "\n",
    "df_new = remove_outliers_zscore(df)\n"
   ]
  },
  {
   "cell_type": "code",
   "execution_count": 13,
   "metadata": {},
   "outputs": [
    {
     "data": {
      "text/plain": [
       "['Gender', 'Occupation', 'Loan_Status', 'Account_Category', 'Lead_Outcome']"
      ]
     },
     "execution_count": 13,
     "metadata": {},
     "output_type": "execute_result"
    }
   ],
   "source": [
    "#selecting categorical columns\n",
    "\n",
    "categorical_cols = df.select_dtypes(include=['object']).columns.to_list()\n",
    "categorical_cols"
   ]
  },
  {
   "cell_type": "code",
   "execution_count": 14,
   "metadata": {},
   "outputs": [
    {
     "data": {
      "text/plain": [
       "['Month_Income',\n",
       " 'Age',\n",
       " 'Credit_Score',\n",
       " 'Existing_Credit_Cards',\n",
       " 'Avg_Account_Balance',\n",
       " 'Tenure_with_Bank']"
      ]
     },
     "execution_count": 14,
     "metadata": {},
     "output_type": "execute_result"
    }
   ],
   "source": [
    "#selecting numerical columns\n",
    "\n",
    "numerical_cols = df.select_dtypes(include=['float64','int64']).columns.to_list()\n",
    "numerical_cols"
   ]
  },
  {
   "cell_type": "code",
   "execution_count": 15,
   "metadata": {},
   "outputs": [
    {
     "name": "stdout",
     "output_type": "stream",
     "text": [
      "        Count  Percentage\n",
      "Gender                   \n",
      "Male    47376   53.749021\n",
      "Female  40767   46.250979\n",
      "----------------------------------------\n",
      "               Count  Percentage\n",
      "Occupation                      \n",
      "Self_Employed  34941   39.641265\n",
      "Salaried       27649   31.368345\n",
      "Other          24927   28.280181\n",
      "Entrepreneur     626    0.710210\n",
      "----------------------------------------\n",
      "             Count  Percentage\n",
      "Loan_Status                   \n",
      "No           58530   66.403458\n",
      "Yes          29613   33.596542\n",
      "----------------------------------------\n",
      "                         Count  Percentage\n",
      "Account_Category                          \n",
      "Savings Account          40986   46.499438\n",
      "Current Account          22780   25.844367\n",
      "Senior Citizens Account  22393   25.405307\n",
      "Investment Account        1984    2.250888\n",
      "----------------------------------------\n",
      "              Count  Percentage\n",
      "Lead_Outcome                   \n",
      "No            54485   61.814324\n",
      "Yes           33658   38.185676\n",
      "----------------------------------------\n"
     ]
    }
   ],
   "source": [
    "for column in categorical_cols:\n",
    "    value_counts = df[column].value_counts()\n",
    "    \n",
    "    percentages = (value_counts / len(df)) * 100\n",
    "    \n",
    "    print(pd.DataFrame({'Count': value_counts, 'Percentage': percentages}))\n",
    "    print(\"-\" * 40)"
   ]
  },
  {
   "cell_type": "code",
   "execution_count": 16,
   "metadata": {},
   "outputs": [
    {
     "name": "stdout",
     "output_type": "stream",
     "text": [
      "              Count  Percentage\n",
      "Month_Income                   \n",
      "107050.0       7872    8.930942\n",
      "85640.0        7855    8.911655\n",
      "74935.0        7793    8.841315\n",
      "42820.0        7789    8.836777\n",
      "96345.0        7749    8.791396\n",
      "53525.0        7714    8.751688\n",
      "64230.0        7713    8.750553\n",
      "136825.0       2459    2.789785\n",
      "210500.0       2446    2.775036\n",
      "126300.0       2441    2.769363\n",
      "147350.0       2436    2.763691\n",
      "199975.0       2434    2.761422\n",
      "189450.0       2417    2.742135\n",
      "84200.0        2398    2.720579\n",
      "105250.0       2397    2.719445\n",
      "73675.0        2395    2.717175\n",
      "168400.0       2393    2.714906\n",
      "157875.0       2390    2.711503\n",
      "178925.0       2377    2.696754\n",
      "94725.0        2342    2.657046\n",
      "115775.0       2333    2.646835\n",
      "----------------------------------------\n",
      "     Count  Percentage\n",
      "Age                   \n",
      "28    5905    6.699341\n",
      "29    5336    6.053799\n",
      "27    5228    5.931271\n",
      "30    4288    4.864822\n",
      "26    3631    4.119442\n",
      "..     ...         ...\n",
      "81     263    0.298379\n",
      "82     248    0.281361\n",
      "83     236    0.267747\n",
      "85     229    0.259805\n",
      "84     221    0.250729\n",
      "\n",
      "[62 rows x 2 columns]\n",
      "----------------------------------------\n",
      "              Count  Percentage\n",
      "Credit_Score                   \n",
      "777             198    0.224635\n",
      "760             197    0.223500\n",
      "742             194    0.220097\n",
      "835             194    0.220097\n",
      "725             194    0.220097\n",
      "...             ...         ...\n",
      "334             130    0.147488\n",
      "309             128    0.145219\n",
      "587             127    0.144084\n",
      "544             127    0.144084\n",
      "443             115    0.130470\n",
      "\n",
      "[552 rows x 2 columns]\n",
      "----------------------------------------\n",
      "                       Count  Percentage\n",
      "Existing_Credit_Cards                   \n",
      "0                      58530   66.403458\n",
      "3                       7048    7.996097\n",
      "4                       4178    4.740025\n",
      "6                       4128    4.683299\n",
      "7                       4068    4.615228\n",
      "5                       4054    4.599344\n",
      "1                       3122    3.541972\n",
      "2                       3015    3.420578\n",
      "----------------------------------------\n",
      "                     Count  Percentage\n",
      "Avg_Account_Balance                   \n",
      "4022185                 31    0.035170\n",
      "936814                  13    0.014749\n",
      "2521592                 12    0.013614\n",
      "4126262                 11    0.012480\n",
      "1387777                 10    0.011345\n",
      "...                    ...         ...\n",
      "1555915                  1    0.001135\n",
      "923472                   1    0.001135\n",
      "397011                   1    0.001135\n",
      "4166757                  1    0.001135\n",
      "1918608                  1    0.001135\n",
      "\n",
      "[68401 rows x 2 columns]\n",
      "----------------------------------------\n",
      "                  Count  Percentage\n",
      "Tenure_with_Bank                   \n",
      "5                 14043   15.932065\n",
      "1                 10932   12.402573\n",
      "3                 10912   12.379883\n",
      "2                 10889   12.353789\n",
      "4                 10855   12.315215\n",
      "13                 3121    3.540837\n",
      "11                 3115    3.534030\n",
      "10                 3104    3.521550\n",
      "9                  3085    3.499994\n",
      "7                  3068    3.480707\n",
      "8                  3029    3.436461\n",
      "6                  3026    3.433058\n",
      "15                 3015    3.420578\n",
      "12                 2993    3.395618\n",
      "14                 2956    3.353641\n",
      "----------------------------------------\n"
     ]
    }
   ],
   "source": [
    "for column in numerical_cols:\n",
    "    value_counts = df[column].value_counts()\n",
    "    \n",
    "    percentages = (value_counts / len(df)) * 100\n",
    "    \n",
    "    print(pd.DataFrame({'Count': value_counts, 'Percentage': percentages}))\n",
    "    print(\"-\" * 40)"
   ]
  },
  {
   "cell_type": "code",
   "execution_count": 17,
   "metadata": {},
   "outputs": [
    {
     "name": "stdout",
     "output_type": "stream",
     "text": [
      "Tenure_with_Bank\n",
      "10    26251\n",
      "15    18304\n",
      "1     10932\n",
      "3     10912\n",
      "2     10889\n",
      "4     10855\n",
      "Name: count, dtype: int64\n"
     ]
    },
    {
     "name": "stderr",
     "output_type": "stream",
     "text": [
      "C:\\Users\\Gen\\AppData\\Local\\Temp\\ipykernel_17968\\2923662720.py:18: FutureWarning: Downcasting behavior in `replace` is deprecated and will be removed in a future version. To retain the old behavior, explicitly call `result.infer_objects(copy=False)`. To opt-in to the future behavior, set `pd.set_option('future.no_silent_downcasting', True)`\n",
      "  df['Tenure_with_Bank'] = df['Tenure_with_Bank'].replace({'5-10': 10, '10+': 15})\n"
     ]
    }
   ],
   "source": [
    "def categorize_tenure(value):\n",
    "    if value in [1, 2, 3, 4]:\n",
    "        return value\n",
    "    elif value >= 5 and value <10:\n",
    "        return '5-10'\n",
    "    elif value >= 10:\n",
    "        return '10+'\n",
    "\n",
    "# Apply the function to create a new column with categorized values\n",
    "df['Tenure_with_Bank_Categorized'] = df['Tenure_with_Bank'].apply(categorize_tenure)\n",
    "\n",
    "# Update the original column with the new categorized values\n",
    "df['Tenure_with_Bank'] = df['Tenure_with_Bank_Categorized']\n",
    "\n",
    "# Drop the temporary column\n",
    "df.drop(columns=['Tenure_with_Bank_Categorized'], inplace=True)\n",
    "\n",
    "df['Tenure_with_Bank'] = df['Tenure_with_Bank'].replace({'5-10': 10, '10+': 15})\n",
    "\n",
    "print(df['Tenure_with_Bank'].value_counts())\n",
    "\n"
   ]
  },
  {
   "cell_type": "code",
   "execution_count": 18,
   "metadata": {},
   "outputs": [
    {
     "name": "stderr",
     "output_type": "stream",
     "text": [
      "C:\\Users\\Gen\\AppData\\Local\\Temp\\ipykernel_17968\\2567631106.py:27: FutureWarning: \n",
      "\n",
      "Passing `palette` without assigning `hue` is deprecated and will be removed in v0.14.0. Assign the `x` variable to `hue` and set `legend=False` for the same effect.\n",
      "\n",
      "  sns.barplot(x=value_counts_resampled.index, y=value_counts_resampled.values, palette='viridis')\n"
     ]
    },
    {
     "name": "stdout",
     "output_type": "stream",
     "text": [
      "Value counts before undersampling:\n",
      "Existing_Credit_Cards\n",
      "0    58530\n",
      "1    29613\n",
      "Name: count, dtype: int64\n"
     ]
    },
    {
     "data": {
      "image/png": "[encoded data removed]",
      "text/plain": [
       "<Figure size 800x500 with 1 Axes>"
      ]
     },
     "metadata": {},
     "output_type": "display_data"
    }
   ],
   "source": [
    "\n",
    "from imblearn.under_sampling import RandomUnderSampler\n",
    "\n",
    "# Handling Existing_Credit_Cards\n",
    "df['Existing_Credit_Cards'] = df['Existing_Credit_Cards'].apply(lambda x: 0 if x == 0 else 1)\n",
    "\n",
    "# Print the value counts before undersampling\n",
    "print(\"Value counts before undersampling:\")\n",
    "print(df['Existing_Credit_Cards'].value_counts())\n",
    "\n",
    "# Prepare data for undersampling\n",
    "X = df.drop(columns='Existing_Credit_Cards')  \n",
    "y = df['Existing_Credit_Cards']                \n",
    "\n",
    "# Undersample the majority class\n",
    "undersampler = RandomUnderSampler(random_state=42)\n",
    "X_resampled, y_resampled = undersampler.fit_resample(X, y)\n",
    "\n",
    "# Combine the resampled data back into a DataFrame\n",
    "df_resampled = pd.DataFrame(X_resampled, columns=X.columns)\n",
    "df_resampled['Existing_Credit_Cards'] = y_resampled\n",
    "\n",
    "# Get the value counts after undersampling\n",
    "value_counts_resampled = df_resampled['Existing_Credit_Cards'].value_counts()\n",
    "\n",
    "# Plotting the distribution after undersampling\n",
    "plt.figure(figsize=(8, 5))\n",
    "sns.barplot(x=value_counts_resampled.index, y=value_counts_resampled.values, palette='viridis')\n",
    "plt.title('Distribution of Existing Credit Cards After Undersampling')\n",
    "plt.xlabel('Existing Credit Cards (0 = No, 1 = Yes)')\n",
    "plt.ylabel('Count')\n",
    "plt.xticks(ticks=value_counts_resampled.index, labels=['No', 'Yes'])\n",
    "plt.grid(axis='y')\n",
    "plt.show()\n"
   ]
  },
  {
   "cell_type": "code",
   "execution_count": 19,
   "metadata": {},
   "outputs": [
    {
     "name": "stdout",
     "output_type": "stream",
     "text": [
      "Original value counts:\n",
      "Occupation\n",
      "Self_Employed    34941\n",
      "Salaried         27649\n",
      "Other            24927\n",
      "Entrepreneur       626\n",
      "Name: count, dtype: int64\n",
      "\n",
      "Updated value counts after combining 'Entrepreneur' with 'Other':\n",
      "Occupation\n",
      "Self_Employed    34941\n",
      "Salaried         27649\n",
      "Other            25553\n",
      "Name: count, dtype: int64\n"
     ]
    }
   ],
   "source": [
    "import pandas as pd\n",
    "\n",
    "# Display original value counts for verification\n",
    "print(\"Original value counts:\")\n",
    "print(df['Occupation'].value_counts())\n",
    "\n",
    "# Combine 'Entrepreneur' with 'Other'\n",
    "df['Occupation'] = df['Occupation'].replace({'Entrepreneur': 'Other'})\n",
    "\n",
    "# Display updated value counts to verify the change\n",
    "print(\"\\nUpdated value counts after combining 'Entrepreneur' with 'Other':\")\n",
    "print(df['Occupation'].value_counts())\n"
   ]
  },
  {
   "cell_type": "code",
   "execution_count": 20,
   "metadata": {},
   "outputs": [
    {
     "name": "stdout",
     "output_type": "stream",
     "text": [
      "\n",
      "Statistical summary of the dataset\n"
     ]
    },
    {
     "data": {
      "text/html": [
       "<div>\n",
       "<style scoped>\n",
       "    .dataframe tbody tr th:only-of-type {\n",
       "        vertical-align: middle;\n",
       "    }\n",
       "\n",
       "    .dataframe tbody tr th {\n",
       "        vertical-align: top;\n",
       "    }\n",
       "\n",
       "    .dataframe thead th {\n",
       "        text-align: right;\n",
       "    }\n",
       "</style>\n",
       "<table border=\"1\" class=\"dataframe\">\n",
       "  <thead>\n",
       "    <tr style=\"text-align: right;\">\n",
       "      <th></th>\n",
       "      <th>Month_Income</th>\n",
       "      <th>Age</th>\n",
       "      <th>Credit_Score</th>\n",
       "      <th>Existing_Credit_Cards</th>\n",
       "      <th>Avg_Account_Balance</th>\n",
       "      <th>Tenure_with_Bank</th>\n",
       "    </tr>\n",
       "  </thead>\n",
       "  <tbody>\n",
       "    <tr>\n",
       "      <th>count</th>\n",
       "      <td>88143.000000</td>\n",
       "      <td>88143.000000</td>\n",
       "      <td>88143.000000</td>\n",
       "      <td>88143.000000</td>\n",
       "      <td>8.814300e+04</td>\n",
       "      <td>88143.000000</td>\n",
       "    </tr>\n",
       "    <tr>\n",
       "      <th>mean</th>\n",
       "      <td>100736.196068</td>\n",
       "      <td>42.835710</td>\n",
       "      <td>598.672952</td>\n",
       "      <td>0.335965</td>\n",
       "      <td>1.122263e+06</td>\n",
       "      <td>7.328273</td>\n",
       "    </tr>\n",
       "    <tr>\n",
       "      <th>std</th>\n",
       "      <td>45184.678330</td>\n",
       "      <td>14.893035</td>\n",
       "      <td>179.940523</td>\n",
       "      <td>0.472330</td>\n",
       "      <td>8.656068e+05</td>\n",
       "      <td>5.148385</td>\n",
       "    </tr>\n",
       "    <tr>\n",
       "      <th>min</th>\n",
       "      <td>42820.000000</td>\n",
       "      <td>24.000000</td>\n",
       "      <td>300.000000</td>\n",
       "      <td>0.000000</td>\n",
       "      <td>2.259700e+04</td>\n",
       "      <td>1.000000</td>\n",
       "    </tr>\n",
       "    <tr>\n",
       "      <th>25%</th>\n",
       "      <td>64230.000000</td>\n",
       "      <td>29.000000</td>\n",
       "      <td>441.000000</td>\n",
       "      <td>0.000000</td>\n",
       "      <td>5.951250e+05</td>\n",
       "      <td>3.000000</td>\n",
       "    </tr>\n",
       "    <tr>\n",
       "      <th>50%</th>\n",
       "      <td>94725.000000</td>\n",
       "      <td>41.000000</td>\n",
       "      <td>583.000000</td>\n",
       "      <td>0.000000</td>\n",
       "      <td>8.833420e+05</td>\n",
       "      <td>10.000000</td>\n",
       "    </tr>\n",
       "    <tr>\n",
       "      <th>75%</th>\n",
       "      <td>115775.000000</td>\n",
       "      <td>53.000000</td>\n",
       "      <td>767.000000</td>\n",
       "      <td>1.000000</td>\n",
       "      <td>1.355884e+06</td>\n",
       "      <td>10.000000</td>\n",
       "    </tr>\n",
       "    <tr>\n",
       "      <th>max</th>\n",
       "      <td>210500.000000</td>\n",
       "      <td>85.000000</td>\n",
       "      <td>900.000000</td>\n",
       "      <td>1.000000</td>\n",
       "      <td>9.908858e+06</td>\n",
       "      <td>15.000000</td>\n",
       "    </tr>\n",
       "  </tbody>\n",
       "</table>\n",
       "</div>"
      ],
      "text/plain": [
       "        Month_Income           Age  Credit_Score  Existing_Credit_Cards  \\\n",
       "count   88143.000000  88143.000000  88143.000000           88143.000000   \n",
       "mean   100736.196068     42.835710    598.672952               0.335965   \n",
       "std     45184.678330     14.893035    179.940523               0.472330   \n",
       "min     42820.000000     24.000000    300.000000               0.000000   \n",
       "25%     64230.000000     29.000000    441.000000               0.000000   \n",
       "50%     94725.000000     41.000000    583.000000               0.000000   \n",
       "75%    115775.000000     53.000000    767.000000               1.000000   \n",
       "max    210500.000000     85.000000    900.000000               1.000000   \n",
       "\n",
       "       Avg_Account_Balance  Tenure_with_Bank  \n",
       "count         8.814300e+04      88143.000000  \n",
       "mean          1.122263e+06          7.328273  \n",
       "std           8.656068e+05          5.148385  \n",
       "min           2.259700e+04          1.000000  \n",
       "25%           5.951250e+05          3.000000  \n",
       "50%           8.833420e+05         10.000000  \n",
       "75%           1.355884e+06         10.000000  \n",
       "max           9.908858e+06         15.000000  "
      ]
     },
     "execution_count": 20,
     "metadata": {},
     "output_type": "execute_result"
    }
   ],
   "source": [
    "print(\"\\nStatistical summary of the dataset\")\n",
    "df.describe()"
   ]
  },
  {
   "cell_type": "code",
   "execution_count": 21,
   "metadata": {},
   "outputs": [
    {
     "name": "stdout",
     "output_type": "stream",
     "text": [
      "Index(['Gender', 'Month_Income', 'Age', 'Occupation', 'Credit_Score',\n",
      "       'Loan_Status', 'Existing_Credit_Cards', 'Avg_Account_Balance',\n",
      "       'Account_Category', 'Tenure_with_Bank', 'Lead_Outcome'],\n",
      "      dtype='object')\n"
     ]
    }
   ],
   "source": [
    "print(df.columns)"
   ]
  },
  {
   "cell_type": "code",
   "execution_count": 22,
   "metadata": {},
   "outputs": [],
   "source": [
    "df['Lead_Outcome']=df['Lead_Outcome'].apply(lambda x : 1 if x=='Yes' else 0) \n"
   ]
  },
  {
   "cell_type": "code",
   "execution_count": 23,
   "metadata": {},
   "outputs": [
    {
     "name": "stdout",
     "output_type": "stream",
     "text": [
      "   Month_Income   Age  Credit_Score  Existing_Credit_Cards  \\\n",
      "0       96345.0  29.0         623.0                    1.0   \n",
      "2       96345.0  31.0         357.0                    0.0   \n",
      "3       85640.0  29.0         356.0                    0.0   \n",
      "4       42820.0  29.0         572.0                    0.0   \n",
      "5       64230.0  60.0         478.0                    0.0   \n",
      "\n",
      "   Avg_Account_Balance  Tenure_with_Bank  Lead_Outcome  Gender_Female  \\\n",
      "0             742366.0               2.0           0.0            0.0   \n",
      "2             215949.0               1.0           0.0            0.0   \n",
      "3             868070.0               3.0           0.0            1.0   \n",
      "4             657087.0               3.0           0.0            0.0   \n",
      "5            4624262.0              10.0           0.0            1.0   \n",
      "\n",
      "   Gender_Male  Occupation_Other  Occupation_Salaried  \\\n",
      "0          1.0               1.0                  0.0   \n",
      "2          1.0               1.0                  0.0   \n",
      "3          0.0               1.0                  0.0   \n",
      "4          1.0               0.0                  0.0   \n",
      "5          0.0               1.0                  0.0   \n",
      "\n",
      "   Occupation_Self_Employed  Loan_Status_No  Loan_Status_Yes  \\\n",
      "0                       0.0             0.0              1.0   \n",
      "2                       0.0             1.0              0.0   \n",
      "3                       0.0             1.0              0.0   \n",
      "4                       1.0             1.0              0.0   \n",
      "5                       0.0             1.0              0.0   \n",
      "\n",
      "   Account_Category_Current Account  Account_Category_Investment Account  \\\n",
      "0                               0.0                                  0.0   \n",
      "2                               0.0                                  0.0   \n",
      "3                               0.0                                  0.0   \n",
      "4                               0.0                                  0.0   \n",
      "5                               1.0                                  0.0   \n",
      "\n",
      "   Account_Category_Savings Account  Account_Category_Senior Citizens Account  \n",
      "0                               1.0                                       0.0  \n",
      "2                               1.0                                       0.0  \n",
      "3                               1.0                                       0.0  \n",
      "4                               0.0                                       1.0  \n",
      "5                               0.0                                       0.0  \n"
     ]
    }
   ],
   "source": [
    "from sklearn.preprocessing import OneHotEncoder\n",
    "\n",
    "categorical_columns = ['Gender','Occupation', 'Loan_Status', 'Account_Category']\n",
    "\n",
    "encoder = OneHotEncoder( sparse_output=False)  \n",
    "\n",
    "encoded_columns = encoder.fit_transform(df[categorical_columns])\n",
    "\n",
    "encoded_df = pd.DataFrame(encoded_columns, columns=encoder.get_feature_names_out(categorical_columns))\n",
    "\n",
    "df_final = pd.concat([df.drop(columns=categorical_columns), encoded_df], axis=1)\n",
    "\n",
    "print(df_final.head())\n",
    "\n",
    "\n"
   ]
  },
  {
   "cell_type": "code",
   "execution_count": 24,
   "metadata": {},
   "outputs": [
    {
     "data": {
      "text/html": [
       "<div>\n",
       "<style scoped>\n",
       "    .dataframe tbody tr th:only-of-type {\n",
       "        vertical-align: middle;\n",
       "    }\n",
       "\n",
       "    .dataframe tbody tr th {\n",
       "        vertical-align: top;\n",
       "    }\n",
       "\n",
       "    .dataframe thead th {\n",
       "        text-align: right;\n",
       "    }\n",
       "</style>\n",
       "<table border=\"1\" class=\"dataframe\">\n",
       "  <thead>\n",
       "    <tr style=\"text-align: right;\">\n",
       "      <th></th>\n",
       "      <th>Month_Income</th>\n",
       "      <th>Age</th>\n",
       "      <th>Credit_Score</th>\n",
       "      <th>Existing_Credit_Cards</th>\n",
       "      <th>Avg_Account_Balance</th>\n",
       "      <th>Tenure_with_Bank</th>\n",
       "      <th>Lead_Outcome</th>\n",
       "      <th>Gender_Female</th>\n",
       "      <th>Gender_Male</th>\n",
       "      <th>Occupation_Other</th>\n",
       "      <th>Occupation_Salaried</th>\n",
       "      <th>Occupation_Self_Employed</th>\n",
       "      <th>Loan_Status_No</th>\n",
       "      <th>Loan_Status_Yes</th>\n",
       "      <th>Account_Category_Current Account</th>\n",
       "      <th>Account_Category_Investment Account</th>\n",
       "      <th>Account_Category_Savings Account</th>\n",
       "      <th>Account_Category_Senior Citizens Account</th>\n",
       "    </tr>\n",
       "  </thead>\n",
       "  <tbody>\n",
       "    <tr>\n",
       "      <th>0</th>\n",
       "      <td>96345.0</td>\n",
       "      <td>29.0</td>\n",
       "      <td>623.0</td>\n",
       "      <td>1.0</td>\n",
       "      <td>742366.0</td>\n",
       "      <td>2.0</td>\n",
       "      <td>0.0</td>\n",
       "      <td>0.0</td>\n",
       "      <td>1.0</td>\n",
       "      <td>1.0</td>\n",
       "      <td>0.0</td>\n",
       "      <td>0.0</td>\n",
       "      <td>0.0</td>\n",
       "      <td>1.0</td>\n",
       "      <td>0.0</td>\n",
       "      <td>0.0</td>\n",
       "      <td>1.0</td>\n",
       "      <td>0.0</td>\n",
       "    </tr>\n",
       "    <tr>\n",
       "      <th>2</th>\n",
       "      <td>96345.0</td>\n",
       "      <td>31.0</td>\n",
       "      <td>357.0</td>\n",
       "      <td>0.0</td>\n",
       "      <td>215949.0</td>\n",
       "      <td>1.0</td>\n",
       "      <td>0.0</td>\n",
       "      <td>0.0</td>\n",
       "      <td>1.0</td>\n",
       "      <td>1.0</td>\n",
       "      <td>0.0</td>\n",
       "      <td>0.0</td>\n",
       "      <td>1.0</td>\n",
       "      <td>0.0</td>\n",
       "      <td>0.0</td>\n",
       "      <td>0.0</td>\n",
       "      <td>1.0</td>\n",
       "      <td>0.0</td>\n",
       "    </tr>\n",
       "    <tr>\n",
       "      <th>3</th>\n",
       "      <td>85640.0</td>\n",
       "      <td>29.0</td>\n",
       "      <td>356.0</td>\n",
       "      <td>0.0</td>\n",
       "      <td>868070.0</td>\n",
       "      <td>3.0</td>\n",
       "      <td>0.0</td>\n",
       "      <td>1.0</td>\n",
       "      <td>0.0</td>\n",
       "      <td>1.0</td>\n",
       "      <td>0.0</td>\n",
       "      <td>0.0</td>\n",
       "      <td>1.0</td>\n",
       "      <td>0.0</td>\n",
       "      <td>0.0</td>\n",
       "      <td>0.0</td>\n",
       "      <td>1.0</td>\n",
       "      <td>0.0</td>\n",
       "    </tr>\n",
       "    <tr>\n",
       "      <th>4</th>\n",
       "      <td>42820.0</td>\n",
       "      <td>29.0</td>\n",
       "      <td>572.0</td>\n",
       "      <td>0.0</td>\n",
       "      <td>657087.0</td>\n",
       "      <td>3.0</td>\n",
       "      <td>0.0</td>\n",
       "      <td>0.0</td>\n",
       "      <td>1.0</td>\n",
       "      <td>0.0</td>\n",
       "      <td>0.0</td>\n",
       "      <td>1.0</td>\n",
       "      <td>1.0</td>\n",
       "      <td>0.0</td>\n",
       "      <td>0.0</td>\n",
       "      <td>0.0</td>\n",
       "      <td>0.0</td>\n",
       "      <td>1.0</td>\n",
       "    </tr>\n",
       "    <tr>\n",
       "      <th>5</th>\n",
       "      <td>64230.0</td>\n",
       "      <td>60.0</td>\n",
       "      <td>478.0</td>\n",
       "      <td>0.0</td>\n",
       "      <td>4624262.0</td>\n",
       "      <td>10.0</td>\n",
       "      <td>0.0</td>\n",
       "      <td>1.0</td>\n",
       "      <td>0.0</td>\n",
       "      <td>1.0</td>\n",
       "      <td>0.0</td>\n",
       "      <td>0.0</td>\n",
       "      <td>1.0</td>\n",
       "      <td>0.0</td>\n",
       "      <td>1.0</td>\n",
       "      <td>0.0</td>\n",
       "      <td>0.0</td>\n",
       "      <td>0.0</td>\n",
       "    </tr>\n",
       "  </tbody>\n",
       "</table>\n",
       "</div>"
      ],
      "text/plain": [
       "   Month_Income   Age  Credit_Score  Existing_Credit_Cards  \\\n",
       "0       96345.0  29.0         623.0                    1.0   \n",
       "2       96345.0  31.0         357.0                    0.0   \n",
       "3       85640.0  29.0         356.0                    0.0   \n",
       "4       42820.0  29.0         572.0                    0.0   \n",
       "5       64230.0  60.0         478.0                    0.0   \n",
       "\n",
       "   Avg_Account_Balance  Tenure_with_Bank  Lead_Outcome  Gender_Female  \\\n",
       "0             742366.0               2.0           0.0            0.0   \n",
       "2             215949.0               1.0           0.0            0.0   \n",
       "3             868070.0               3.0           0.0            1.0   \n",
       "4             657087.0               3.0           0.0            0.0   \n",
       "5            4624262.0              10.0           0.0            1.0   \n",
       "\n",
       "   Gender_Male  Occupation_Other  Occupation_Salaried  \\\n",
       "0          1.0               1.0                  0.0   \n",
       "2          1.0               1.0                  0.0   \n",
       "3          0.0               1.0                  0.0   \n",
       "4          1.0               0.0                  0.0   \n",
       "5          0.0               1.0                  0.0   \n",
       "\n",
       "   Occupation_Self_Employed  Loan_Status_No  Loan_Status_Yes  \\\n",
       "0                       0.0             0.0              1.0   \n",
       "2                       0.0             1.0              0.0   \n",
       "3                       0.0             1.0              0.0   \n",
       "4                       1.0             1.0              0.0   \n",
       "5                       0.0             1.0              0.0   \n",
       "\n",
       "   Account_Category_Current Account  Account_Category_Investment Account  \\\n",
       "0                               0.0                                  0.0   \n",
       "2                               0.0                                  0.0   \n",
       "3                               0.0                                  0.0   \n",
       "4                               0.0                                  0.0   \n",
       "5                               1.0                                  0.0   \n",
       "\n",
       "   Account_Category_Savings Account  Account_Category_Senior Citizens Account  \n",
       "0                               1.0                                       0.0  \n",
       "2                               1.0                                       0.0  \n",
       "3                               1.0                                       0.0  \n",
       "4                               0.0                                       1.0  \n",
       "5                               0.0                                       0.0  "
      ]
     },
     "execution_count": 24,
     "metadata": {},
     "output_type": "execute_result"
    }
   ],
   "source": [
    "df_final.head()"
   ]
  },
  {
   "cell_type": "code",
   "execution_count": 25,
   "metadata": {},
   "outputs": [
    {
     "name": "stdout",
     "output_type": "stream",
     "text": [
      "Missing values in df_final: Month_Income                                14121\n",
      "Age                                         14121\n",
      "Credit_Score                                14121\n",
      "Existing_Credit_Cards                       14121\n",
      "Avg_Account_Balance                         14121\n",
      "Tenure_with_Bank                            14121\n",
      "Lead_Outcome                                14121\n",
      "Gender_Female                               14121\n",
      "Gender_Male                                 14121\n",
      "Occupation_Other                            14121\n",
      "Occupation_Salaried                         14121\n",
      "Occupation_Self_Employed                    14121\n",
      "Loan_Status_No                              14121\n",
      "Loan_Status_Yes                             14121\n",
      "Account_Category_Current Account            14121\n",
      "Account_Category_Investment Account         14121\n",
      "Account_Category_Savings Account            14121\n",
      "Account_Category_Senior Citizens Account    14121\n",
      "dtype: int64\n"
     ]
    }
   ],
   "source": [
    "print(\"Missing values in df_final:\", pd.isnull(df_final).sum())\n"
   ]
  },
  {
   "cell_type": "code",
   "execution_count": 26,
   "metadata": {},
   "outputs": [],
   "source": [
    "df_final.dropna(inplace=True)\n"
   ]
  },
  {
   "cell_type": "code",
   "execution_count": 27,
   "metadata": {},
   "outputs": [
    {
     "name": "stdout",
     "output_type": "stream",
     "text": [
      "Month_Income                                0\n",
      "Age                                         0\n",
      "Credit_Score                                0\n",
      "Existing_Credit_Cards                       0\n",
      "Avg_Account_Balance                         0\n",
      "Tenure_with_Bank                            0\n",
      "Lead_Outcome                                0\n",
      "Gender_Female                               0\n",
      "Gender_Male                                 0\n",
      "Occupation_Other                            0\n",
      "Occupation_Salaried                         0\n",
      "Occupation_Self_Employed                    0\n",
      "Loan_Status_No                              0\n",
      "Loan_Status_Yes                             0\n",
      "Account_Category_Current Account            0\n",
      "Account_Category_Investment Account         0\n",
      "Account_Category_Savings Account            0\n",
      "Account_Category_Senior Citizens Account    0\n",
      "dtype: int64\n"
     ]
    }
   ],
   "source": [
    "print(df_final.isnull().sum())\n"
   ]
  },
  {
   "cell_type": "code",
   "execution_count": 28,
   "metadata": {},
   "outputs": [],
   "source": [
    "X = df_final.drop('Lead_Outcome', axis=1)\n",
    "y = df_final['Lead_Outcome']"
   ]
  },
  {
   "cell_type": "code",
   "execution_count": 29,
   "metadata": {},
   "outputs": [],
   "source": [
    "# Split data\n",
    "X_train, X_test, y_train, y_test = train_test_split(X, y, test_size=0.3, random_state=42)\n",
    "# K-Fold Cross Validation\n",
    "kfold = StratifiedKFold(n_splits=5, shuffle=True, random_state=42)\n"
   ]
  },
  {
   "cell_type": "code",
   "execution_count": 30,
   "metadata": {},
   "outputs": [],
   "source": [
    "#check each model accuracy one by one\n",
    "def model_acc(model):\n",
    "    model.fit(X_train, y_train)\n",
    "    acc = model.score(X_test, y_test)\n",
    "    print(str(model)+ ' --> ' +str(acc))"
   ]
  },
  {
   "cell_type": "code",
   "execution_count": 41,
   "metadata": {},
   "outputs": [],
   "source": [
    "from sklearn.metrics import confusion_matrix, classification_report, ConfusionMatrixDisplay\n"
   ]
  },
  {
   "cell_type": "code",
   "execution_count": 47,
   "metadata": {},
   "outputs": [
    {
     "name": "stderr",
     "output_type": "stream",
     "text": [
      "c:\\Users\\Gen\\AppData\\Local\\Programs\\Python\\Python312\\Lib\\site-packages\\sklearn\\linear_model\\_logistic.py:469: ConvergenceWarning: lbfgs failed to converge (status=1):\n",
      "STOP: TOTAL NO. of ITERATIONS REACHED LIMIT.\n",
      "\n",
      "Increase the number of iterations (max_iter) or scale the data as shown in:\n",
      "    https://scikit-learn.org/stable/modules/preprocessing.html\n",
      "Please also refer to the documentation for alternative solver options:\n",
      "    https://scikit-learn.org/stable/modules/linear_model.html#logistic-regression\n",
      "  n_iter_i = _check_optimize_result(\n"
     ]
    },
    {
     "name": "stdout",
     "output_type": "stream",
     "text": [
      "LogisticRegression() --> 0.7096411041563471\n",
      "Classification Report:\n",
      "               precision    recall  f1-score   support\n",
      "\n",
      "         0.0       0.82      0.68      0.74     13712\n",
      "         1.0       0.60      0.75      0.66      8495\n",
      "\n",
      "    accuracy                           0.71     22207\n",
      "   macro avg       0.71      0.72      0.70     22207\n",
      "weighted avg       0.73      0.71      0.71     22207\n",
      "\n"
     ]
    },
    {
     "data": {
      "image/png": "[encoded data removed]",
      "text/plain": [
       "<Figure size 800x600 with 2 Axes>"
      ]
     },
     "metadata": {},
     "output_type": "display_data"
    }
   ],
   "source": [
    "from sklearn.linear_model import LogisticRegression\n",
    "log = LogisticRegression()\n",
    "model_acc(log)\n",
    "\n",
    "# Predict on test set\n",
    "y_pred = log.predict(X_test)\n",
    "\n",
    "# Confusion matrix\n",
    "conf_matrix = confusion_matrix(y_test, y_pred)\n",
    "\n",
    "# Classification report\n",
    "class_report = classification_report(y_test, y_pred)\n",
    "print(\"Classification Report:\\n\", class_report)\n",
    "\n",
    "# Confusion matrix plot\n",
    "plt.figure(figsize=(8, 6))\n",
    "sns.heatmap(conf_matrix, annot=True, fmt='g', cmap='Blues')\n",
    "plt.title('Confusion Matrix for Logistic Regression')\n",
    "plt.xlabel('Predicted Labels')\n",
    "plt.ylabel('True Labels')\n",
    "plt.show()"
   ]
  },
  {
   "cell_type": "code",
   "execution_count": 43,
   "metadata": {},
   "outputs": [
    {
     "name": "stdout",
     "output_type": "stream",
     "text": [
      "KNeighborsClassifier() --> 0.9308776511910659\n",
      "Classification Report:\n",
      "               precision    recall  f1-score   support\n",
      "\n",
      "         0.0       0.91      0.98      0.95     13712\n",
      "         1.0       0.97      0.85      0.90      8495\n",
      "\n",
      "    accuracy                           0.93     22207\n",
      "   macro avg       0.94      0.91      0.92     22207\n",
      "weighted avg       0.93      0.93      0.93     22207\n",
      "\n"
     ]
    },
    {
     "data": {
      "image/png": "[encoded data removed]",
      "text/plain": [
       "<Figure size 800x600 with 2 Axes>"
      ]
     },
     "metadata": {},
     "output_type": "display_data"
    }
   ],
   "source": [
    "from sklearn.neighbors import KNeighborsClassifier\n",
    "kn=KNeighborsClassifier()\n",
    "model_acc(kn)\n",
    "\n",
    "# Predict on test set\n",
    "y_pred = kn.predict(X_test)\n",
    "\n",
    "# Confusion matrix\n",
    "conf_matrix = confusion_matrix(y_test, y_pred)\n",
    "\n",
    "# Classification report\n",
    "class_report = classification_report(y_test, y_pred)\n",
    "print(\"Classification Report:\\n\", class_report)\n",
    "\n",
    "# Confusion matrix plot\n",
    "plt.figure(figsize=(8, 6))\n",
    "sns.heatmap(conf_matrix, annot=True, fmt='g', cmap='Blues')\n",
    "plt.title('Confusion Matrix for KNN')\n",
    "plt.xlabel('Predicted Labels')\n",
    "plt.ylabel('True Labels')\n",
    "plt.show()\n",
    "\n"
   ]
  },
  {
   "cell_type": "code",
   "execution_count": 48,
   "metadata": {},
   "outputs": [
    {
     "name": "stdout",
     "output_type": "stream",
     "text": [
      "SVC() --> 0.8747241860674562\n",
      "Classification Report:\n",
      "               precision    recall  f1-score   support\n",
      "\n",
      "         0.0       0.83      1.00      0.91     13712\n",
      "         1.0       1.00      0.67      0.80      8495\n",
      "\n",
      "    accuracy                           0.87     22207\n",
      "   macro avg       0.92      0.84      0.86     22207\n",
      "weighted avg       0.90      0.87      0.87     22207\n",
      "\n"
     ]
    },
    {
     "data": {
      "image/png": "[encoded data removed]",
      "text/plain": [
       "<Figure size 800x600 with 2 Axes>"
      ]
     },
     "metadata": {},
     "output_type": "display_data"
    }
   ],
   "source": [
    "from sklearn.svm import SVC\n",
    "svc_m = SVC()\n",
    "model_acc(svc_m)\n",
    "\n",
    "# Predict on test set\n",
    "y_pred = svc_m.predict(X_test)\n",
    "\n",
    "# Confusion matrix\n",
    "conf_matrix = confusion_matrix(y_test, y_pred)\n",
    "\n",
    "# Classification report\n",
    "class_report = classification_report(y_test, y_pred)\n",
    "print(\"Classification Report:\\n\", class_report)\n",
    "\n",
    "# Confusion matrix plot\n",
    "plt.figure(figsize=(8, 6))\n",
    "sns.heatmap(conf_matrix, annot=True, fmt='g', cmap='Blues')\n",
    "plt.title('Confusion Matrix for SVC')\n",
    "plt.xlabel('Predicted Labels')\n",
    "plt.ylabel('True Labels')\n",
    "plt.show()\n",
    " \n",
    " "
   ]
  },
  {
   "cell_type": "code",
   "execution_count": 34,
   "metadata": {},
   "outputs": [
    {
     "name": "stdout",
     "output_type": "stream",
     "text": [
      "GaussianNB() --> 0.9950466069257441\n"
     ]
    }
   ],
   "source": [
    "from sklearn.naive_bayes import GaussianNB\n",
    "classifier = GaussianNB()\n",
    "model_acc(classifier)"
   ]
  },
  {
   "cell_type": "code",
   "execution_count": 49,
   "metadata": {},
   "outputs": [
    {
     "name": "stdout",
     "output_type": "stream",
     "text": [
      "MLPClassifier() --> 0.5839149817625073\n",
      "Classification Report:\n",
      "               precision    recall  f1-score   support\n",
      "\n",
      "         0.0       0.99      0.33      0.49     13712\n",
      "         1.0       0.48      1.00      0.65      8495\n",
      "\n",
      "    accuracy                           0.58     22207\n",
      "   macro avg       0.73      0.66      0.57     22207\n",
      "weighted avg       0.79      0.58      0.55     22207\n",
      "\n"
     ]
    },
    {
     "data": {
      "image/png": "[encoded data removed]",
      "text/plain": [
       "<Figure size 800x600 with 2 Axes>"
      ]
     },
     "metadata": {},
     "output_type": "display_data"
    }
   ],
   "source": [
    "from sklearn.neural_network import MLPClassifier\n",
    "\n",
    "mlp = MLPClassifier()\n",
    "model_acc(mlp)\n",
    "\n",
    "# Predict on test set\n",
    "y_pred = mlp.predict(X_test)\n",
    "\n",
    "# Confusion matrix\n",
    "conf_matrix = confusion_matrix(y_test, y_pred)\n",
    "\n",
    "# Classification report\n",
    "class_report = classification_report(y_test, y_pred)\n",
    "print(\"Classification Report:\\n\", class_report)\n",
    "\n",
    "# Confusion matrix plot\n",
    "plt.figure(figsize=(8, 6))\n",
    "sns.heatmap(conf_matrix, annot=True, fmt='g', cmap='Blues')\n",
    "plt.title('Confusion Matrix for MLPClassifier')\n",
    "plt.xlabel('Predicted Labels')\n",
    "plt.ylabel('True Labels')\n",
    "plt.show()"
   ]
  },
  {
   "cell_type": "code",
   "execution_count": 36,
   "metadata": {},
   "outputs": [],
   "source": [
    "# # Parameter grid for KNN\n",
    "# param_grid_knn = {\n",
    "#     'n_neighbors': [3, 5, 7, 10],\n",
    "#     'weights': ['uniform', 'distance'],\n",
    "#     'algorithm': ['auto', 'ball_tree', 'kd_tree'],\n",
    "#     'leaf_size': [10, 20, 30]  \n",
    "# }\n",
    "\n",
    "\n",
    "# # Parameter grid for Logistic Regression\n",
    "# param_grid_lr = {\n",
    "#     'C': [0.01, 0.1, 1, 10],\n",
    "#     'penalty': ['l2'],\n",
    "#     'solver': ['lbfgs', 'liblinear']\n",
    "# }\n",
    "\n",
    "# # Parameter grid for MLP\n",
    "# param_grid_mlp = {\n",
    "#     'hidden_layer_sizes': [(50,), (100,), (50, 50), (100, 50)],  \n",
    "#     'activation': ['relu', 'logistic'],\n",
    "#     'solver': ['adam', 'sgd'],\n",
    "#     'alpha': [ 0.001, 0.01],  \n",
    "#     'learning_rate': ['constant', 'invscaling', 'adaptive'],\n",
    "#     'max_iter': [200, 300]\n",
    "# }\n",
    "\n",
    "\n",
    "\n",
    "# # Initialize models\n",
    "# models = {\n",
    "#     'KNN': (KNeighborsClassifier(), param_grid_knn, GridSearchCV),\n",
    "#     'Logistic Regression': (LogisticRegression(class_weight='balanced'), param_grid_lr, GridSearchCV),\n",
    "#     'MLPClassifier': (MLPClassifier(), param_grid_mlp, RandomizedSearchCV),\n",
    "#     'SVC': (SVC(), param_grid_knn, GridSearchCV),\n",
    "\n",
    "    \n",
    "# }"
   ]
  },
  {
   "cell_type": "code",
   "execution_count": 37,
   "metadata": {},
   "outputs": [],
   "source": [
    "# # Perform hyperparameter tuning with K-Fold Cross Validation\n",
    "# best_models = {}\n",
    "\n",
    "# for name, (model, param_grid, search_method) in models.items():\n",
    "#     print(\"-\" * 100)\n",
    "#     print(f\"Starting hyperparameter tuning for {name}...\")\n",
    "    \n",
    "#     # For GridSearchCV or RandomizedSearchCV based on the model\n",
    "#     if search_method == GridSearchCV:\n",
    "#         grid_search = GridSearchCV(estimator=model, param_grid=param_grid, cv=kfold, n_jobs=-1, verbose=2)\n",
    "#     else:\n",
    "#         grid_search = RandomizedSearchCV(estimator=model, param_distributions=param_grid, n_iter=50, cv=kfold, n_jobs=-1, verbose=2, random_state=42)\n",
    "    \n",
    "#     grid_search.fit(X_train, y_train)\n",
    "    \n",
    "#     print(f\"Best parameters for {name}: {grid_search.best_params_}\")\n",
    "#     print(f\"Best score for {name}: {grid_search.best_score_}\")\n",
    "#     print(\"-\" * 100)\n",
    "    \n",
    "#     best_models[name] = grid_search.best_estimator_"
   ]
  },
  {
   "cell_type": "code",
   "execution_count": 38,
   "metadata": {},
   "outputs": [],
   "source": [
    "# # Evaluate the tuned models\n",
    "# def evaluate_models(models, X_test, y_test):\n",
    "#     for name, model in models.items():\n",
    "#         print(f'\\nPerformance Report for {name} (Tuned):\\n')\n",
    "        \n",
    "#         # Predict the outcomes\n",
    "#         y_pred = model.predict(X_test)\n",
    "        \n",
    "#         # Compute and print accuracy\n",
    "#         accuracy = accuracy_score(y_test, y_pred)\n",
    "#         print(f'Accuracy: {accuracy:.4f}')\n",
    "\n",
    "#         # Compute and print classification report\n",
    "#         print('Classification Report:')\n",
    "#         print(classification_report(y_test, y_pred))\n",
    "\n",
    "# # Call the function to evaluate the best models\n",
    "# evaluate_models(best_models, X_test, y_test)"
   ]
  },
  {
   "cell_type": "code",
   "execution_count": 39,
   "metadata": {},
   "outputs": [],
   "source": [
    "predicted = kn.predict(X_test)"
   ]
  },
  {
   "cell_type": "code",
   "execution_count": 40,
   "metadata": {},
   "outputs": [],
   "source": [
    "# import seaborn as sns\n",
    "# from sklearn.metrics import confusion_matrix\n",
    "\n",
    "# # Compute confusion matrix\n",
    "# cm = confusion_matrix(y_test, predicted)\n",
    "\n",
    "# # Function to plot confusion matrix\n",
    "# def plot_confusion_matrix(cm, labels):\n",
    "#     plt.figure(figsize=(8, 6))\n",
    "#     sns.heatmap(cm, annot=True, fmt='d', cmap='Blues', cbar=False,\n",
    "#                 xticklabels=labels, yticklabels=labels)\n",
    "#     plt.ylabel('Actual')\n",
    "#     plt.xlabel('Predicted')\n",
    "#     plt.title('Confusion Matrix')\n",
    "#     plt.show()\n",
    "\n",
    "# labels = ['Class 0', 'Class 1']  \n",
    "# plot_confusion_matrix(cm, labels)\n"
   ]
  },
  {
   "cell_type": "code",
   "execution_count": null,
   "metadata": {},
   "outputs": [],
   "source": []
  }
 ],
 "metadata": {
  "kernelspec": {
   "display_name": "Python 3",
   "language": "python",
   "name": "python3"
  },
  "language_info": {
   "codemirror_mode": {
    "name": "ipython",
    "version": 3
   },
   "file_extension": ".py",
   "mimetype": "text/x-python",
   "name": "python",
   "nbconvert_exporter": "python",
   "pygments_lexer": "ipython3",
   "version": "3.12.3"
  }
 },
 "nbformat": 4,
 "nbformat_minor": 2
}
