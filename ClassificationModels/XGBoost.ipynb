{
 "cells": [
  {
   "cell_type": "code",
   "execution_count": 1,
   "metadata": {},
   "outputs": [],
   "source": [
    "import numpy as np\n",
    "import pandas as pd\n",
    "import matplotlib.pyplot as plt\n",
    "\n",
    "from sklearn.preprocessing import LabelEncoder\n",
    "from sklearn.compose import ColumnTransformer\n",
    "from sklearn.model_selection import train_test_split\n",
    "from xgboost import XGBClassifier\n",
    "import seaborn as sns\n",
    "\n"
   ]
  },
  {
   "cell_type": "markdown",
   "metadata": {},
   "source": [
    "Read the dataset"
   ]
  },
  {
   "cell_type": "code",
   "execution_count": 2,
   "metadata": {},
   "outputs": [],
   "source": [
    "path = '../Dataset/bank_customer.csv'\n",
    "df = pd.read_csv(path)"
   ]
  },
  {
   "cell_type": "code",
   "execution_count": 3,
   "metadata": {},
   "outputs": [
    {
     "data": {
      "text/html": [
       "<div>\n",
       "<style scoped>\n",
       "    .dataframe tbody tr th:only-of-type {\n",
       "        vertical-align: middle;\n",
       "    }\n",
       "\n",
       "    .dataframe tbody tr th {\n",
       "        vertical-align: top;\n",
       "    }\n",
       "\n",
       "    .dataframe thead th {\n",
       "        text-align: right;\n",
       "    }\n",
       "</style>\n",
       "<table border=\"1\" class=\"dataframe\">\n",
       "  <thead>\n",
       "    <tr style=\"text-align: right;\">\n",
       "      <th></th>\n",
       "      <th>Unnamed: 0</th>\n",
       "      <th>ID</th>\n",
       "      <th>Gender</th>\n",
       "      <th>Month_Income</th>\n",
       "      <th>Age</th>\n",
       "      <th>Region_Code</th>\n",
       "      <th>Occupation</th>\n",
       "      <th>Credit_Score</th>\n",
       "      <th>Loan_Status</th>\n",
       "      <th>Existing_Credit_Cards</th>\n",
       "      <th>Avg_Account_Balance</th>\n",
       "      <th>Account_Category</th>\n",
       "      <th>Tenure_with_Bank</th>\n",
       "      <th>Lead_Outcome</th>\n",
       "    </tr>\n",
       "  </thead>\n",
       "  <tbody>\n",
       "    <tr>\n",
       "      <th>0</th>\n",
       "      <td>0</td>\n",
       "      <td>VBENBARO</td>\n",
       "      <td>Male</td>\n",
       "      <td>96345.0</td>\n",
       "      <td>29</td>\n",
       "      <td>254</td>\n",
       "      <td>Other</td>\n",
       "      <td>623</td>\n",
       "      <td>Yes</td>\n",
       "      <td>4</td>\n",
       "      <td>742366</td>\n",
       "      <td>X1</td>\n",
       "      <td>2</td>\n",
       "      <td>No</td>\n",
       "    </tr>\n",
       "    <tr>\n",
       "      <th>1</th>\n",
       "      <td>1</td>\n",
       "      <td>CCMEWNKY</td>\n",
       "      <td>Male</td>\n",
       "      <td>85640.0</td>\n",
       "      <td>43</td>\n",
       "      <td>268</td>\n",
       "      <td>Other</td>\n",
       "      <td>629</td>\n",
       "      <td>NaN</td>\n",
       "      <td>0</td>\n",
       "      <td>925537</td>\n",
       "      <td>X2</td>\n",
       "      <td>1</td>\n",
       "      <td>No</td>\n",
       "    </tr>\n",
       "    <tr>\n",
       "      <th>2</th>\n",
       "      <td>2</td>\n",
       "      <td>VK3KGA9M</td>\n",
       "      <td>Male</td>\n",
       "      <td>96345.0</td>\n",
       "      <td>31</td>\n",
       "      <td>270</td>\n",
       "      <td>Salaried</td>\n",
       "      <td>357</td>\n",
       "      <td>No</td>\n",
       "      <td>0</td>\n",
       "      <td>215949</td>\n",
       "      <td>X1</td>\n",
       "      <td>1</td>\n",
       "      <td>No</td>\n",
       "    </tr>\n",
       "    <tr>\n",
       "      <th>3</th>\n",
       "      <td>3</td>\n",
       "      <td>TT8RPZVC</td>\n",
       "      <td>Male</td>\n",
       "      <td>85640.0</td>\n",
       "      <td>29</td>\n",
       "      <td>272</td>\n",
       "      <td>Other</td>\n",
       "      <td>356</td>\n",
       "      <td>No</td>\n",
       "      <td>0</td>\n",
       "      <td>868070</td>\n",
       "      <td>X1</td>\n",
       "      <td>3</td>\n",
       "      <td>No</td>\n",
       "    </tr>\n",
       "    <tr>\n",
       "      <th>4</th>\n",
       "      <td>4</td>\n",
       "      <td>SHQZEYTZ</td>\n",
       "      <td>Female</td>\n",
       "      <td>42820.0</td>\n",
       "      <td>29</td>\n",
       "      <td>270</td>\n",
       "      <td>Other</td>\n",
       "      <td>572</td>\n",
       "      <td>No</td>\n",
       "      <td>0</td>\n",
       "      <td>657087</td>\n",
       "      <td>X1</td>\n",
       "      <td>3</td>\n",
       "      <td>No</td>\n",
       "    </tr>\n",
       "  </tbody>\n",
       "</table>\n",
       "</div>"
      ],
      "text/plain": [
       "   Unnamed: 0        ID  Gender  Month_Income  Age  Region_Code Occupation  \\\n",
       "0           0  VBENBARO    Male       96345.0   29          254      Other   \n",
       "1           1  CCMEWNKY    Male       85640.0   43          268      Other   \n",
       "2           2  VK3KGA9M    Male       96345.0   31          270   Salaried   \n",
       "3           3  TT8RPZVC    Male       85640.0   29          272      Other   \n",
       "4           4  SHQZEYTZ  Female       42820.0   29          270      Other   \n",
       "\n",
       "   Credit_Score Loan_Status  Existing_Credit_Cards  Avg_Account_Balance  \\\n",
       "0           623         Yes                      4               742366   \n",
       "1           629         NaN                      0               925537   \n",
       "2           357          No                      0               215949   \n",
       "3           356          No                      0               868070   \n",
       "4           572          No                      0               657087   \n",
       "\n",
       "  Account_Category  Tenure_with_Bank Lead_Outcome  \n",
       "0               X1                 2           No  \n",
       "1               X2                 1           No  \n",
       "2               X1                 1           No  \n",
       "3               X1                 3           No  \n",
       "4               X1                 3           No  "
      ]
     },
     "execution_count": 3,
     "metadata": {},
     "output_type": "execute_result"
    }
   ],
   "source": [
    "df.head()"
   ]
  },
  {
   "cell_type": "markdown",
   "metadata": {},
   "source": [
    "Data Gathering and Exploration"
   ]
  },
  {
   "cell_type": "code",
   "execution_count": 4,
   "metadata": {},
   "outputs": [
    {
     "name": "stdout",
     "output_type": "stream",
     "text": [
      "<class 'pandas.core.frame.DataFrame'>\n",
      "RangeIndex: 105000 entries, 0 to 104999\n",
      "Data columns (total 14 columns):\n",
      " #   Column                 Non-Null Count   Dtype  \n",
      "---  ------                 --------------   -----  \n",
      " 0   Unnamed: 0             105000 non-null  int64  \n",
      " 1   ID                     105000 non-null  object \n",
      " 2   Gender                 105000 non-null  object \n",
      " 3   Month_Income           102514 non-null  float64\n",
      " 4   Age                    105000 non-null  int64  \n",
      " 5   Region_Code            105000 non-null  int64  \n",
      " 6   Occupation             102486 non-null  object \n",
      " 7   Credit_Score           105000 non-null  int64  \n",
      " 8   Loan_Status            92511 non-null   object \n",
      " 9   Existing_Credit_Cards  105000 non-null  int64  \n",
      " 10  Avg_Account_Balance    105000 non-null  int64  \n",
      " 11  Account_Category       105000 non-null  object \n",
      " 12  Tenure_with_Bank       105000 non-null  int64  \n",
      " 13  Lead_Outcome           105000 non-null  object \n",
      "dtypes: float64(1), int64(7), object(6)\n",
      "memory usage: 11.2+ MB\n"
     ]
    }
   ],
   "source": [
    "df.info()"
   ]
  },
  {
   "cell_type": "code",
   "execution_count": 5,
   "metadata": {},
   "outputs": [
    {
     "data": {
      "text/plain": [
       "['ID',\n",
       " 'Gender',\n",
       " 'Occupation',\n",
       " 'Loan_Status',\n",
       " 'Account_Category',\n",
       " 'Lead_Outcome']"
      ]
     },
     "execution_count": 5,
     "metadata": {},
     "output_type": "execute_result"
    }
   ],
   "source": [
    "#selecting categorical columns\n",
    "\n",
    "categorical_cols = df.select_dtypes(include=['object']).columns.to_list()\n",
    "categorical_cols"
   ]
  },
  {
   "cell_type": "code",
   "execution_count": 6,
   "metadata": {},
   "outputs": [
    {
     "data": {
      "text/plain": [
       "['Unnamed: 0',\n",
       " 'Month_Income',\n",
       " 'Age',\n",
       " 'Region_Code',\n",
       " 'Credit_Score',\n",
       " 'Existing_Credit_Cards',\n",
       " 'Avg_Account_Balance',\n",
       " 'Tenure_with_Bank']"
      ]
     },
     "execution_count": 6,
     "metadata": {},
     "output_type": "execute_result"
    }
   ],
   "source": [
    "#selecting numerical columns\n",
    "\n",
    "numerical_cols = df.select_dtypes(include=['float64','int64']).columns.to_list()\n",
    "numerical_cols"
   ]
  },
  {
   "cell_type": "code",
   "execution_count": 7,
   "metadata": {},
   "outputs": [
    {
     "name": "stdout",
     "output_type": "stream",
     "text": [
      "Numerical columns with missing values: {'Month_Income': 2486}\n",
      "Categorical columns with missing values: {'Occupation': 2514, 'Loan_Status': 12489}\n"
     ]
    }
   ],
   "source": [
    "missing_values = df.isna().sum().to_dict()\n",
    "\n",
    "# Filter columns with missing values\n",
    "columns_with_missing_values = {k: v for k, v in missing_values.items() if v > 0}\n",
    "\n",
    "column_data_types = df.dtypes.to_dict()\n",
    "\n",
    "numerical_missing = {k: v for k, v in columns_with_missing_values.items() if column_data_types[k] in ['int64', 'float64']}\n",
    "categorical_missing = {k: v for k, v in columns_with_missing_values.items() if column_data_types[k] == 'object'}\n",
    "\n",
    "print(\"Numerical columns with missing values:\", numerical_missing)\n",
    "print(\"Categorical columns with missing values:\", categorical_missing)"
   ]
  },
  {
   "cell_type": "markdown",
   "metadata": {},
   "source": [
    "Fill the missing values in the columns"
   ]
  },
  {
   "cell_type": "code",
   "execution_count": 8,
   "metadata": {},
   "outputs": [],
   "source": [
    "for column in categorical_missing:\n",
    "    if df[column].isnull().any():\n",
    "        df[column] = df[column].fillna(df[column].mode()[0])\n",
    "    "
   ]
  },
  {
   "cell_type": "code",
   "execution_count": 9,
   "metadata": {},
   "outputs": [],
   "source": [
    "for column in numerical_missing:\n",
    "    if df[column].isnull().any():\n",
    "        df[column] = df[column].fillna(df[column].mean())"
   ]
  }
 ],
 "metadata": {
  "kernelspec": {
   "display_name": "Python 3",
   "language": "python",
   "name": "python3"
  },
  "language_info": {
   "codemirror_mode": {
    "name": "ipython",
    "version": 3
   },
   "file_extension": ".py",
   "mimetype": "text/x-python",
   "name": "python",
   "nbconvert_exporter": "python",
   "pygments_lexer": "ipython3",
   "version": "3.12.3"
  }
 },
 "nbformat": 4,
 "nbformat_minor": 2
}
