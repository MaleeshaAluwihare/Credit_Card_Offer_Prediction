{
 "cells": [
  {
   "cell_type": "code",
   "execution_count": 39,
   "metadata": {},
   "outputs": [],
   "source": [
    "import numpy as np\n",
    "import pandas as pd\n",
    "from sklearn.preprocessing import LabelEncoder\n",
    "from sklearn.model_selection import train_test_split\n",
    "from sklearn.metrics import  confusion_matrix, classification_report\n",
    "from sklearn.preprocessing import StandardScaler, OneHotEncoder"
   ]
  },
  {
   "cell_type": "code",
   "execution_count": 2,
   "metadata": {},
   "outputs": [],
   "source": [
    "file_path = r'C:\\Users\\Gen\\Documents\\FDM mini\\Customer_Salary_Prediction\\Dataset\\bank_customer.csv'\n",
    "data = pd.read_csv(file_path,encoding='latin-1')"
   ]
  },
  {
   "cell_type": "code",
   "execution_count": 36,
   "metadata": {},
   "outputs": [
    {
     "data": {
      "text/html": [
       "<div>\n",
       "<style scoped>\n",
       "    .dataframe tbody tr th:only-of-type {\n",
       "        vertical-align: middle;\n",
       "    }\n",
       "\n",
       "    .dataframe tbody tr th {\n",
       "        vertical-align: top;\n",
       "    }\n",
       "\n",
       "    .dataframe thead th {\n",
       "        text-align: right;\n",
       "    }\n",
       "</style>\n",
       "<table border=\"1\" class=\"dataframe\">\n",
       "  <thead>\n",
       "    <tr style=\"text-align: right;\">\n",
       "      <th></th>\n",
       "      <th>Unnamed: 0</th>\n",
       "      <th>Month_Income</th>\n",
       "      <th>Age</th>\n",
       "      <th>Credit_Score</th>\n",
       "      <th>Avg_Account_Balance</th>\n",
       "      <th>Lead_Outcome</th>\n",
       "      <th>Gender_Female</th>\n",
       "      <th>Gender_Male</th>\n",
       "      <th>Occupation_Entrepreneur</th>\n",
       "      <th>Occupation_Other</th>\n",
       "      <th>...</th>\n",
       "      <th>Account_Category_X2</th>\n",
       "      <th>Account_Category_X3</th>\n",
       "      <th>Account_Category_X4</th>\n",
       "      <th>Tenure_with_Bank_1</th>\n",
       "      <th>Tenure_with_Bank_2</th>\n",
       "      <th>Tenure_with_Bank_3</th>\n",
       "      <th>Tenure_with_Bank_4</th>\n",
       "      <th>Tenure_with_Bank_5</th>\n",
       "      <th>Tenure_with_Bank_5 to 10</th>\n",
       "      <th>Tenure_with_Bank_more than 10 years</th>\n",
       "    </tr>\n",
       "  </thead>\n",
       "  <tbody>\n",
       "    <tr>\n",
       "      <th>0</th>\n",
       "      <td>0</td>\n",
       "      <td>96345.0</td>\n",
       "      <td>29</td>\n",
       "      <td>623</td>\n",
       "      <td>742366</td>\n",
       "      <td>0</td>\n",
       "      <td>False</td>\n",
       "      <td>True</td>\n",
       "      <td>False</td>\n",
       "      <td>True</td>\n",
       "      <td>...</td>\n",
       "      <td>False</td>\n",
       "      <td>False</td>\n",
       "      <td>False</td>\n",
       "      <td>False</td>\n",
       "      <td>True</td>\n",
       "      <td>False</td>\n",
       "      <td>False</td>\n",
       "      <td>False</td>\n",
       "      <td>False</td>\n",
       "      <td>False</td>\n",
       "    </tr>\n",
       "    <tr>\n",
       "      <th>1</th>\n",
       "      <td>1</td>\n",
       "      <td>85640.0</td>\n",
       "      <td>43</td>\n",
       "      <td>629</td>\n",
       "      <td>925537</td>\n",
       "      <td>0</td>\n",
       "      <td>False</td>\n",
       "      <td>True</td>\n",
       "      <td>False</td>\n",
       "      <td>True</td>\n",
       "      <td>...</td>\n",
       "      <td>True</td>\n",
       "      <td>False</td>\n",
       "      <td>False</td>\n",
       "      <td>True</td>\n",
       "      <td>False</td>\n",
       "      <td>False</td>\n",
       "      <td>False</td>\n",
       "      <td>False</td>\n",
       "      <td>False</td>\n",
       "      <td>False</td>\n",
       "    </tr>\n",
       "    <tr>\n",
       "      <th>2</th>\n",
       "      <td>2</td>\n",
       "      <td>96345.0</td>\n",
       "      <td>31</td>\n",
       "      <td>357</td>\n",
       "      <td>215949</td>\n",
       "      <td>0</td>\n",
       "      <td>False</td>\n",
       "      <td>True</td>\n",
       "      <td>False</td>\n",
       "      <td>False</td>\n",
       "      <td>...</td>\n",
       "      <td>False</td>\n",
       "      <td>False</td>\n",
       "      <td>False</td>\n",
       "      <td>True</td>\n",
       "      <td>False</td>\n",
       "      <td>False</td>\n",
       "      <td>False</td>\n",
       "      <td>False</td>\n",
       "      <td>False</td>\n",
       "      <td>False</td>\n",
       "    </tr>\n",
       "    <tr>\n",
       "      <th>3</th>\n",
       "      <td>3</td>\n",
       "      <td>85640.0</td>\n",
       "      <td>29</td>\n",
       "      <td>356</td>\n",
       "      <td>868070</td>\n",
       "      <td>0</td>\n",
       "      <td>False</td>\n",
       "      <td>True</td>\n",
       "      <td>False</td>\n",
       "      <td>True</td>\n",
       "      <td>...</td>\n",
       "      <td>False</td>\n",
       "      <td>False</td>\n",
       "      <td>False</td>\n",
       "      <td>False</td>\n",
       "      <td>False</td>\n",
       "      <td>True</td>\n",
       "      <td>False</td>\n",
       "      <td>False</td>\n",
       "      <td>False</td>\n",
       "      <td>False</td>\n",
       "    </tr>\n",
       "    <tr>\n",
       "      <th>4</th>\n",
       "      <td>4</td>\n",
       "      <td>42820.0</td>\n",
       "      <td>29</td>\n",
       "      <td>572</td>\n",
       "      <td>657087</td>\n",
       "      <td>0</td>\n",
       "      <td>True</td>\n",
       "      <td>False</td>\n",
       "      <td>False</td>\n",
       "      <td>True</td>\n",
       "      <td>...</td>\n",
       "      <td>False</td>\n",
       "      <td>False</td>\n",
       "      <td>False</td>\n",
       "      <td>False</td>\n",
       "      <td>False</td>\n",
       "      <td>True</td>\n",
       "      <td>False</td>\n",
       "      <td>False</td>\n",
       "      <td>False</td>\n",
       "      <td>False</td>\n",
       "    </tr>\n",
       "  </tbody>\n",
       "</table>\n",
       "<p>5 rows × 27 columns</p>\n",
       "</div>"
      ],
      "text/plain": [
       "   Unnamed: 0  Month_Income  Age  Credit_Score  Avg_Account_Balance  \\\n",
       "0           0       96345.0   29           623               742366   \n",
       "1           1       85640.0   43           629               925537   \n",
       "2           2       96345.0   31           357               215949   \n",
       "3           3       85640.0   29           356               868070   \n",
       "4           4       42820.0   29           572               657087   \n",
       "\n",
       "   Lead_Outcome  Gender_Female  Gender_Male  Occupation_Entrepreneur  \\\n",
       "0             0          False         True                    False   \n",
       "1             0          False         True                    False   \n",
       "2             0          False         True                    False   \n",
       "3             0          False         True                    False   \n",
       "4             0           True        False                    False   \n",
       "\n",
       "   Occupation_Other  ...  Account_Category_X2  Account_Category_X3  \\\n",
       "0              True  ...                False                False   \n",
       "1              True  ...                 True                False   \n",
       "2             False  ...                False                False   \n",
       "3              True  ...                False                False   \n",
       "4              True  ...                False                False   \n",
       "\n",
       "   Account_Category_X4  Tenure_with_Bank_1  Tenure_with_Bank_2  \\\n",
       "0                False               False                True   \n",
       "1                False                True               False   \n",
       "2                False                True               False   \n",
       "3                False               False               False   \n",
       "4                False               False               False   \n",
       "\n",
       "   Tenure_with_Bank_3  Tenure_with_Bank_4  Tenure_with_Bank_5  \\\n",
       "0               False               False               False   \n",
       "1               False               False               False   \n",
       "2               False               False               False   \n",
       "3                True               False               False   \n",
       "4                True               False               False   \n",
       "\n",
       "   Tenure_with_Bank_5 to 10  Tenure_with_Bank_more than 10 years  \n",
       "0                     False                                False  \n",
       "1                     False                                False  \n",
       "2                     False                                False  \n",
       "3                     False                                False  \n",
       "4                     False                                False  \n",
       "\n",
       "[5 rows x 27 columns]"
      ]
     },
     "execution_count": 36,
     "metadata": {},
     "output_type": "execute_result"
    }
   ],
   "source": [
    "data.head()"
   ]
  },
  {
   "cell_type": "markdown",
   "metadata": {},
   "source": [
    "#  Replace specific placeholders with NaN and Replace the unknown values with the mode #\n"
   ]
  },
  {
   "cell_type": "code",
   "execution_count": 4,
   "metadata": {},
   "outputs": [
    {
     "name": "stdout",
     "output_type": "stream",
     "text": [
      "Columns with NA values: ['Month_Income', 'Occupation', 'Loan_Status']\n"
     ]
    }
   ],
   "source": [
    "cols_with_na = data.columns[data.isna().any()].tolist()\n",
    "print(f'Columns with NA values: {cols_with_na}')"
   ]
  },
  {
   "cell_type": "code",
   "execution_count": 5,
   "metadata": {},
   "outputs": [
    {
     "name": "stderr",
     "output_type": "stream",
     "text": [
      "C:\\Users\\Gen\\AppData\\Local\\Temp\\ipykernel_15940\\2519966710.py:2: FutureWarning: A value is trying to be set on a copy of a DataFrame or Series through chained assignment using an inplace method.\n",
      "The behavior will change in pandas 3.0. This inplace method will never work because the intermediate object on which we are setting values always behaves as a copy.\n",
      "\n",
      "For example, when doing 'df[col].method(value, inplace=True)', try using 'df.method({col: value}, inplace=True)' or df[col] = df[col].method(value) instead, to perform the operation inplace on the original object.\n",
      "\n",
      "\n",
      "  data['Occupation'].replace(['Unknown', '', '?'], pd.NA, inplace=True)\n"
     ]
    }
   ],
   "source": [
    "data['Occupation'].replace(['Unknown', '', '?'], pd.NA, inplace=True)\n",
    "data.fillna({'Occupation': data['Occupation'].mode()[0]}, inplace=True)"
   ]
  },
  {
   "cell_type": "code",
   "execution_count": 7,
   "metadata": {},
   "outputs": [
    {
     "name": "stderr",
     "output_type": "stream",
     "text": [
      "C:\\Users\\Gen\\AppData\\Local\\Temp\\ipykernel_15940\\1801588829.py:1: FutureWarning: A value is trying to be set on a copy of a DataFrame or Series through chained assignment using an inplace method.\n",
      "The behavior will change in pandas 3.0. This inplace method will never work because the intermediate object on which we are setting values always behaves as a copy.\n",
      "\n",
      "For example, when doing 'df[col].method(value, inplace=True)', try using 'df.method({col: value}, inplace=True)' or df[col] = df[col].method(value) instead, to perform the operation inplace on the original object.\n",
      "\n",
      "\n",
      "  data['Loan_Status'].replace(['Unknown', '', '?'], pd.NA, inplace=True)\n"
     ]
    }
   ],
   "source": [
    "data['Loan_Status'].replace(['Unknown', '', '?'], pd.NA, inplace=True)\n",
    "\n",
    "data.fillna({'Loan_Status': data['Loan_Status'].mode()[0]}, inplace=True)"
   ]
  },
  {
   "cell_type": "markdown",
   "metadata": {},
   "source": [
    "# Replace specific placeholders with NaN and Replace the unknown values with the mean #\n"
   ]
  },
  {
   "cell_type": "code",
   "execution_count": 8,
   "metadata": {},
   "outputs": [
    {
     "name": "stderr",
     "output_type": "stream",
     "text": [
      "C:\\Users\\Gen\\AppData\\Local\\Temp\\ipykernel_15940\\2751590864.py:3: FutureWarning: A value is trying to be set on a copy of a DataFrame or Series through chained assignment using an inplace method.\n",
      "The behavior will change in pandas 3.0. This inplace method will never work because the intermediate object on which we are setting values always behaves as a copy.\n",
      "\n",
      "For example, when doing 'df[col].method(value, inplace=True)', try using 'df.method({col: value}, inplace=True)' or df[col] = df[col].method(value) instead, to perform the operation inplace on the original object.\n",
      "\n",
      "\n",
      "  data['Month_Income'].replace(['Unknown', '', '?'], pd.NA, inplace=True)\n"
     ]
    }
   ],
   "source": [
    "\n",
    "data['Month_Income'].replace(['Unknown', '', '?'], pd.NA, inplace=True)\n",
    "\n",
    "data.fillna({'Month_Income': data['Month_Income'].astype(float).mean()}, inplace=True)"
   ]
  },
  {
   "cell_type": "code",
   "execution_count": 9,
   "metadata": {},
   "outputs": [
    {
     "name": "stdout",
     "output_type": "stream",
     "text": [
      "Columns with NA values: []\n"
     ]
    }
   ],
   "source": [
    "cols_with_na = data.columns[data.isna().any()].tolist()\n",
    "print(f'Columns with NA values: {cols_with_na}')"
   ]
  },
  {
   "cell_type": "code",
   "execution_count": 10,
   "metadata": {},
   "outputs": [],
   "source": [
    "data.drop(['ID','Region_Code'], axis=1, inplace=True)"
   ]
  },
  {
   "cell_type": "code",
   "execution_count": 11,
   "metadata": {},
   "outputs": [
    {
     "data": {
      "text/html": [
       "<div>\n",
       "<style scoped>\n",
       "    .dataframe tbody tr th:only-of-type {\n",
       "        vertical-align: middle;\n",
       "    }\n",
       "\n",
       "    .dataframe tbody tr th {\n",
       "        vertical-align: top;\n",
       "    }\n",
       "\n",
       "    .dataframe thead th {\n",
       "        text-align: right;\n",
       "    }\n",
       "</style>\n",
       "<table border=\"1\" class=\"dataframe\">\n",
       "  <thead>\n",
       "    <tr style=\"text-align: right;\">\n",
       "      <th></th>\n",
       "      <th>Unnamed: 0</th>\n",
       "      <th>Gender</th>\n",
       "      <th>Month_Income</th>\n",
       "      <th>Age</th>\n",
       "      <th>Occupation</th>\n",
       "      <th>Credit_Score</th>\n",
       "      <th>Loan_Status</th>\n",
       "      <th>Existing_Credit_Cards</th>\n",
       "      <th>Avg_Account_Balance</th>\n",
       "      <th>Account_Category</th>\n",
       "      <th>Tenure_with_Bank</th>\n",
       "      <th>Lead_Outcome</th>\n",
       "    </tr>\n",
       "  </thead>\n",
       "  <tbody>\n",
       "    <tr>\n",
       "      <th>0</th>\n",
       "      <td>0</td>\n",
       "      <td>Male</td>\n",
       "      <td>96345.0</td>\n",
       "      <td>29</td>\n",
       "      <td>Other</td>\n",
       "      <td>623</td>\n",
       "      <td>Yes</td>\n",
       "      <td>4</td>\n",
       "      <td>742366</td>\n",
       "      <td>X1</td>\n",
       "      <td>2</td>\n",
       "      <td>No</td>\n",
       "    </tr>\n",
       "    <tr>\n",
       "      <th>1</th>\n",
       "      <td>1</td>\n",
       "      <td>Male</td>\n",
       "      <td>85640.0</td>\n",
       "      <td>43</td>\n",
       "      <td>Other</td>\n",
       "      <td>629</td>\n",
       "      <td>No</td>\n",
       "      <td>0</td>\n",
       "      <td>925537</td>\n",
       "      <td>X2</td>\n",
       "      <td>1</td>\n",
       "      <td>No</td>\n",
       "    </tr>\n",
       "  </tbody>\n",
       "</table>\n",
       "</div>"
      ],
      "text/plain": [
       "   Unnamed: 0 Gender  Month_Income  Age Occupation  Credit_Score Loan_Status  \\\n",
       "0           0   Male       96345.0   29      Other           623         Yes   \n",
       "1           1   Male       85640.0   43      Other           629          No   \n",
       "\n",
       "   Existing_Credit_Cards  Avg_Account_Balance Account_Category  \\\n",
       "0                      4               742366               X1   \n",
       "1                      0               925537               X2   \n",
       "\n",
       "   Tenure_with_Bank Lead_Outcome  \n",
       "0                 2           No  \n",
       "1                 1           No  "
      ]
     },
     "execution_count": 11,
     "metadata": {},
     "output_type": "execute_result"
    }
   ],
   "source": [
    "data.head(2)"
   ]
  },
  {
   "cell_type": "markdown",
   "metadata": {},
   "source": [
    "# Reduce catogeries in Tenure_with_Bank column #"
   ]
  },
  {
   "cell_type": "code",
   "execution_count": 12,
   "metadata": {},
   "outputs": [
    {
     "data": {
      "text/plain": [
       "Tenure_with_Bank\n",
       "5     16492\n",
       "2     12796\n",
       "1     12754\n",
       "3     12747\n",
       "4     12667\n",
       "11     3844\n",
       "9      3811\n",
       "7      3803\n",
       "13     3801\n",
       "10     3792\n",
       "15     3725\n",
       "12     3725\n",
       "6      3712\n",
       "8      3688\n",
       "14     3643\n",
       "Name: count, dtype: int64"
      ]
     },
     "execution_count": 12,
     "metadata": {},
     "output_type": "execute_result"
    }
   ],
   "source": [
    "data['Tenure_with_Bank'].value_counts()"
   ]
  },
  {
   "cell_type": "code",
   "execution_count": 13,
   "metadata": {},
   "outputs": [
    {
     "data": {
      "text/plain": [
       "Tenure_with_Bank\n",
       "5 to 10               18806\n",
       "more than 10 years    18738\n",
       "5                     16492\n",
       "2                     12796\n",
       "1                     12754\n",
       "3                     12747\n",
       "4                     12667\n",
       "Name: count, dtype: int64"
      ]
     },
     "execution_count": 13,
     "metadata": {},
     "output_type": "execute_result"
    }
   ],
   "source": [
    "def Tenure_with_Bank_meth(years):\n",
    "    if years == 1:\n",
    "        return years\n",
    "    else:\n",
    "        if years == 2:\n",
    "            return years\n",
    "        if years == 3:\n",
    "            return years\n",
    "        if years == 4:\n",
    "            return years  \n",
    "        if years == 5:\n",
    "            return years \n",
    "        if years>5 and years<=10:\n",
    "            return '5 to 10'\n",
    "        else:\n",
    "            return 'more than 10 years'\n",
    "\n",
    "data['Tenure_with_Bank']=data['Tenure_with_Bank'].apply(Tenure_with_Bank_meth)\n",
    "\n",
    "data['Tenure_with_Bank'].value_counts()"
   ]
  },
  {
   "cell_type": "code",
   "execution_count": 14,
   "metadata": {},
   "outputs": [],
   "source": [
    "data['Tenure_with_Bank'] = data['Tenure_with_Bank'].apply(str)"
   ]
  },
  {
   "cell_type": "markdown",
   "metadata": {},
   "source": [
    "# Reduce catogeries in Loan_Status column #"
   ]
  },
  {
   "cell_type": "code",
   "execution_count": 15,
   "metadata": {},
   "outputs": [
    {
     "data": {
      "text/plain": [
       "Loan_Status\n",
       "No     73920\n",
       "Yes    31080\n",
       "Name: count, dtype: int64"
      ]
     },
     "execution_count": 15,
     "metadata": {},
     "output_type": "execute_result"
    }
   ],
   "source": [
    "data['Loan_Status'].value_counts()"
   ]
  },
  {
   "cell_type": "code",
   "execution_count": 16,
   "metadata": {},
   "outputs": [
    {
     "data": {
      "text/plain": [
       "Existing_Credit_Cards\n",
       "0    73920\n",
       "3     7418\n",
       "4     4370\n",
       "6     4329\n",
       "7     4271\n",
       "5     4259\n",
       "1     3263\n",
       "2     3170\n",
       "Name: count, dtype: int64"
      ]
     },
     "execution_count": 16,
     "metadata": {},
     "output_type": "execute_result"
    }
   ],
   "source": [
    "data['Existing_Credit_Cards'].value_counts()"
   ]
  },
  {
   "cell_type": "code",
   "execution_count": 17,
   "metadata": {},
   "outputs": [
    {
     "data": {
      "text/plain": [
       "Existing_Credit_Cards\n",
       "None           73920\n",
       "One Or More    31080\n",
       "Name: count, dtype: int64"
      ]
     },
     "execution_count": 17,
     "metadata": {},
     "output_type": "execute_result"
    }
   ],
   "source": [
    "def Existing_Credit_Cards_meth(no):\n",
    "    if no == 0:\n",
    "        return 'None'\n",
    "    else:\n",
    "        return 'One Or More'\n",
    "        \n",
    "data['Existing_Credit_Cards']=data['Existing_Credit_Cards'].apply(Existing_Credit_Cards_meth)\n",
    "data['Existing_Credit_Cards'].value_counts()"
   ]
  },
  {
   "cell_type": "code",
   "execution_count": null,
   "metadata": {},
   "outputs": [],
   "source": [
    " # # Encode categorical variables using label encoding\n",
    " # label_encoders = {}\n",
    " # categorical_columns = ['Gender', 'Occupation', 'Loan_Status', 'Account_Category', 'Lead_Outcome','Tenure_with_Bank','Existing_Credit_Cards']\n",
    " \n",
    "  # for col in categorical_columns:\n",
    " #     le = LabelEncoder()\n",
    " #     data[col] = le.fit_transform(data[col])\n",
    " #     label_encoders[col] = le"
   ]
  },
  {
   "cell_type": "code",
   "execution_count": 18,
   "metadata": {},
   "outputs": [],
   "source": [
    "data['Lead_Outcome']=data['Lead_Outcome'].apply(lambda x : 1 if x=='Yes' else 0) "
   ]
  },
  {
   "cell_type": "code",
   "execution_count": 19,
   "metadata": {},
   "outputs": [
    {
     "name": "stdout",
     "output_type": "stream",
     "text": [
      "Index(['Unnamed: 0', 'Month_Income', 'Age', 'Credit_Score',\n",
      "       'Avg_Account_Balance', 'Lead_Outcome', 'Gender_Female', 'Gender_Male',\n",
      "       'Occupation_Entrepreneur', 'Occupation_Other', 'Occupation_Salaried',\n",
      "       'Occupation_Self_Employed', 'Loan_Status_No', 'Loan_Status_Yes',\n",
      "       'Existing_Credit_Cards_None', 'Existing_Credit_Cards_One Or More',\n",
      "       'Account_Category_X1', 'Account_Category_X2', 'Account_Category_X3',\n",
      "       'Account_Category_X4', 'Tenure_with_Bank_1', 'Tenure_with_Bank_2',\n",
      "       'Tenure_with_Bank_3', 'Tenure_with_Bank_4', 'Tenure_with_Bank_5',\n",
      "       'Tenure_with_Bank_5 to 10', 'Tenure_with_Bank_more than 10 years'],\n",
      "      dtype='object')\n"
     ]
    }
   ],
   "source": [
    "data = pd.get_dummies(data)\n",
    "print(data.columns)\n"
   ]
  },
  {
   "cell_type": "code",
   "execution_count": 20,
   "metadata": {},
   "outputs": [
    {
     "data": {
      "text/html": [
       "<div>\n",
       "<style scoped>\n",
       "    .dataframe tbody tr th:only-of-type {\n",
       "        vertical-align: middle;\n",
       "    }\n",
       "\n",
       "    .dataframe tbody tr th {\n",
       "        vertical-align: top;\n",
       "    }\n",
       "\n",
       "    .dataframe thead th {\n",
       "        text-align: right;\n",
       "    }\n",
       "</style>\n",
       "<table border=\"1\" class=\"dataframe\">\n",
       "  <thead>\n",
       "    <tr style=\"text-align: right;\">\n",
       "      <th></th>\n",
       "      <th>Unnamed: 0</th>\n",
       "      <th>Month_Income</th>\n",
       "      <th>Age</th>\n",
       "      <th>Credit_Score</th>\n",
       "      <th>Avg_Account_Balance</th>\n",
       "      <th>Lead_Outcome</th>\n",
       "      <th>Gender_Female</th>\n",
       "      <th>Gender_Male</th>\n",
       "      <th>Occupation_Entrepreneur</th>\n",
       "      <th>Occupation_Other</th>\n",
       "      <th>...</th>\n",
       "      <th>Account_Category_X2</th>\n",
       "      <th>Account_Category_X3</th>\n",
       "      <th>Account_Category_X4</th>\n",
       "      <th>Tenure_with_Bank_1</th>\n",
       "      <th>Tenure_with_Bank_2</th>\n",
       "      <th>Tenure_with_Bank_3</th>\n",
       "      <th>Tenure_with_Bank_4</th>\n",
       "      <th>Tenure_with_Bank_5</th>\n",
       "      <th>Tenure_with_Bank_5 to 10</th>\n",
       "      <th>Tenure_with_Bank_more than 10 years</th>\n",
       "    </tr>\n",
       "  </thead>\n",
       "  <tbody>\n",
       "    <tr>\n",
       "      <th>0</th>\n",
       "      <td>0</td>\n",
       "      <td>96345.0</td>\n",
       "      <td>29</td>\n",
       "      <td>623</td>\n",
       "      <td>742366</td>\n",
       "      <td>0</td>\n",
       "      <td>False</td>\n",
       "      <td>True</td>\n",
       "      <td>False</td>\n",
       "      <td>True</td>\n",
       "      <td>...</td>\n",
       "      <td>False</td>\n",
       "      <td>False</td>\n",
       "      <td>False</td>\n",
       "      <td>False</td>\n",
       "      <td>True</td>\n",
       "      <td>False</td>\n",
       "      <td>False</td>\n",
       "      <td>False</td>\n",
       "      <td>False</td>\n",
       "      <td>False</td>\n",
       "    </tr>\n",
       "    <tr>\n",
       "      <th>1</th>\n",
       "      <td>1</td>\n",
       "      <td>85640.0</td>\n",
       "      <td>43</td>\n",
       "      <td>629</td>\n",
       "      <td>925537</td>\n",
       "      <td>0</td>\n",
       "      <td>False</td>\n",
       "      <td>True</td>\n",
       "      <td>False</td>\n",
       "      <td>True</td>\n",
       "      <td>...</td>\n",
       "      <td>True</td>\n",
       "      <td>False</td>\n",
       "      <td>False</td>\n",
       "      <td>True</td>\n",
       "      <td>False</td>\n",
       "      <td>False</td>\n",
       "      <td>False</td>\n",
       "      <td>False</td>\n",
       "      <td>False</td>\n",
       "      <td>False</td>\n",
       "    </tr>\n",
       "    <tr>\n",
       "      <th>2</th>\n",
       "      <td>2</td>\n",
       "      <td>96345.0</td>\n",
       "      <td>31</td>\n",
       "      <td>357</td>\n",
       "      <td>215949</td>\n",
       "      <td>0</td>\n",
       "      <td>False</td>\n",
       "      <td>True</td>\n",
       "      <td>False</td>\n",
       "      <td>False</td>\n",
       "      <td>...</td>\n",
       "      <td>False</td>\n",
       "      <td>False</td>\n",
       "      <td>False</td>\n",
       "      <td>True</td>\n",
       "      <td>False</td>\n",
       "      <td>False</td>\n",
       "      <td>False</td>\n",
       "      <td>False</td>\n",
       "      <td>False</td>\n",
       "      <td>False</td>\n",
       "    </tr>\n",
       "    <tr>\n",
       "      <th>3</th>\n",
       "      <td>3</td>\n",
       "      <td>85640.0</td>\n",
       "      <td>29</td>\n",
       "      <td>356</td>\n",
       "      <td>868070</td>\n",
       "      <td>0</td>\n",
       "      <td>False</td>\n",
       "      <td>True</td>\n",
       "      <td>False</td>\n",
       "      <td>True</td>\n",
       "      <td>...</td>\n",
       "      <td>False</td>\n",
       "      <td>False</td>\n",
       "      <td>False</td>\n",
       "      <td>False</td>\n",
       "      <td>False</td>\n",
       "      <td>True</td>\n",
       "      <td>False</td>\n",
       "      <td>False</td>\n",
       "      <td>False</td>\n",
       "      <td>False</td>\n",
       "    </tr>\n",
       "    <tr>\n",
       "      <th>4</th>\n",
       "      <td>4</td>\n",
       "      <td>42820.0</td>\n",
       "      <td>29</td>\n",
       "      <td>572</td>\n",
       "      <td>657087</td>\n",
       "      <td>0</td>\n",
       "      <td>True</td>\n",
       "      <td>False</td>\n",
       "      <td>False</td>\n",
       "      <td>True</td>\n",
       "      <td>...</td>\n",
       "      <td>False</td>\n",
       "      <td>False</td>\n",
       "      <td>False</td>\n",
       "      <td>False</td>\n",
       "      <td>False</td>\n",
       "      <td>True</td>\n",
       "      <td>False</td>\n",
       "      <td>False</td>\n",
       "      <td>False</td>\n",
       "      <td>False</td>\n",
       "    </tr>\n",
       "  </tbody>\n",
       "</table>\n",
       "<p>5 rows × 27 columns</p>\n",
       "</div>"
      ],
      "text/plain": [
       "   Unnamed: 0  Month_Income  Age  Credit_Score  Avg_Account_Balance  \\\n",
       "0           0       96345.0   29           623               742366   \n",
       "1           1       85640.0   43           629               925537   \n",
       "2           2       96345.0   31           357               215949   \n",
       "3           3       85640.0   29           356               868070   \n",
       "4           4       42820.0   29           572               657087   \n",
       "\n",
       "   Lead_Outcome  Gender_Female  Gender_Male  Occupation_Entrepreneur  \\\n",
       "0             0          False         True                    False   \n",
       "1             0          False         True                    False   \n",
       "2             0          False         True                    False   \n",
       "3             0          False         True                    False   \n",
       "4             0           True        False                    False   \n",
       "\n",
       "   Occupation_Other  ...  Account_Category_X2  Account_Category_X3  \\\n",
       "0              True  ...                False                False   \n",
       "1              True  ...                 True                False   \n",
       "2             False  ...                False                False   \n",
       "3              True  ...                False                False   \n",
       "4              True  ...                False                False   \n",
       "\n",
       "   Account_Category_X4  Tenure_with_Bank_1  Tenure_with_Bank_2  \\\n",
       "0                False               False                True   \n",
       "1                False                True               False   \n",
       "2                False                True               False   \n",
       "3                False               False               False   \n",
       "4                False               False               False   \n",
       "\n",
       "   Tenure_with_Bank_3  Tenure_with_Bank_4  Tenure_with_Bank_5  \\\n",
       "0               False               False               False   \n",
       "1               False               False               False   \n",
       "2               False               False               False   \n",
       "3                True               False               False   \n",
       "4                True               False               False   \n",
       "\n",
       "   Tenure_with_Bank_5 to 10  Tenure_with_Bank_more than 10 years  \n",
       "0                     False                                False  \n",
       "1                     False                                False  \n",
       "2                     False                                False  \n",
       "3                     False                                False  \n",
       "4                     False                                False  \n",
       "\n",
       "[5 rows x 27 columns]"
      ]
     },
     "execution_count": 20,
     "metadata": {},
     "output_type": "execute_result"
    }
   ],
   "source": [
    "data.head()"
   ]
  },
  {
   "cell_type": "code",
   "execution_count": 24,
   "metadata": {},
   "outputs": [
    {
     "data": {
      "image/png": "[encoded data removed]",
      "text/plain": [
       "<Figure size 640x480 with 1 Axes>"
      ]
     },
     "metadata": {},
     "output_type": "display_data"
    }
   ],
   "source": [
    "import matplotlib.pyplot as plt\n",
    "\n",
    "data.boxplot(column='Month_Income')\n",
    "plt.show()"
   ]
  },
  {
   "cell_type": "code",
   "execution_count": 25,
   "metadata": {},
   "outputs": [
    {
     "name": "stdout",
     "output_type": "stream",
     "text": [
      "Original number of rows: 105000\n",
      "Number of rows after removing outliers: 99096\n"
     ]
    }
   ],
   "source": [
    "# Calculate the IQR for the 'Month_Income' column\n",
    "Q1 = data['Month_Income'].quantile(0.25)\n",
    "Q3 = data['Month_Income'].quantile(0.75)\n",
    "IQR = Q3 - Q1\n",
    "lower_bound = Q1 - 1.5 * IQR\n",
    "upper_bound = Q3 + 1.5 * IQR\n",
    "\n",
    "# Remove outliers by filtering the dataset\n",
    "data_filtered = data[(data['Month_Income'] >= lower_bound) & (data['Month_Income'] <= upper_bound)]\n",
    "print(f\"Original number of rows: {len(data)}\")\n",
    "print(f\"Number of rows after removing outliers: {len(data_filtered)}\")"
   ]
  },
  {
   "cell_type": "code",
   "execution_count": 26,
   "metadata": {},
   "outputs": [],
   "source": [
    "x = data.drop('Lead_Outcome', axis=1)\n",
    "y = data['Lead_Outcome']"
   ]
  },
  {
   "cell_type": "code",
   "execution_count": 37,
   "metadata": {},
   "outputs": [
    {
     "data": {
      "text/plain": [
       "Lead_Outcome\n",
       "0    63605\n",
       "1    41395\n",
       "Name: count, dtype: int64"
      ]
     },
     "execution_count": 37,
     "metadata": {},
     "output_type": "execute_result"
    }
   ],
   "source": [
    "data['Lead_Outcome'].value_counts()"
   ]
  },
  {
   "cell_type": "code",
   "execution_count": 27,
   "metadata": {},
   "outputs": [],
   "source": [
    "x_train, x_test, y_train, y_test = train_test_split(x, y, test_size=0.2, random_state=42)"
   ]
  },
  {
   "cell_type": "code",
   "execution_count": 28,
   "metadata": {},
   "outputs": [
    {
     "name": "stdout",
     "output_type": "stream",
     "text": [
      "Training samples: 84000, Testing samples: 21000\n"
     ]
    }
   ],
   "source": [
    "print(f\"Training samples: {len(x_train)}, Testing samples: {len(x_test)}\")"
   ]
  },
  {
   "cell_type": "code",
   "execution_count": 29,
   "metadata": {},
   "outputs": [
    {
     "name": "stdout",
     "output_type": "stream",
     "text": [
      "Training Target: 84000, Testing Target: 21000\n"
     ]
    }
   ],
   "source": [
    "print(f\"Training Target: {len(y_train)}, Testing Target: {len(y_test)}\")"
   ]
  },
  {
   "cell_type": "code",
   "execution_count": 31,
   "metadata": {},
   "outputs": [],
   "source": [
    "def model_acc(model):\n",
    "    model.fit(x_train, y_train)\n",
    "    acc = model.score(x_test, y_test)\n",
    "    print(str(model)+ ' --> ' +str(acc))"
   ]
  },
  {
   "cell_type": "code",
   "execution_count": 32,
   "metadata": {},
   "outputs": [
    {
     "name": "stdout",
     "output_type": "stream",
     "text": [
      "KNeighborsClassifier() --> 0.8557142857142858\n"
     ]
    }
   ],
   "source": [
    "from sklearn.neighbors import KNeighborsClassifier\n",
    "kn=KNeighborsClassifier()\n",
    "model_acc(kn)"
   ]
  },
  {
   "cell_type": "code",
   "execution_count": 33,
   "metadata": {},
   "outputs": [
    {
     "data": {
      "text/plain": [
       "array([0, 0, 0, ..., 0, 0, 0], dtype=int64)"
      ]
     },
     "execution_count": 33,
     "metadata": {},
     "output_type": "execute_result"
    }
   ],
   "source": [
    "predicted = kn.predict(x_test)\n",
    "predicted"
   ]
  },
  {
   "cell_type": "code",
   "execution_count": 41,
   "metadata": {},
   "outputs": [
    {
     "data": {
      "text/plain": [
       "'              precision    recall  f1-score   support\\n\\n           0       0.84      0.94      0.89     12793\\n           1       0.89      0.72      0.80      8207\\n\\n    accuracy                           0.86     21000\\n   macro avg       0.87      0.83      0.84     21000\\nweighted avg       0.86      0.86      0.85     21000\\n'"
      ]
     },
     "execution_count": 41,
     "metadata": {},
     "output_type": "execute_result"
    }
   ],
   "source": [
    "classification_rep = classification_report(y_test, predicted)\n",
    "classification_rep\n"
   ]
  },
  {
   "cell_type": "code",
   "execution_count": 38,
   "metadata": {},
   "outputs": [
    {
     "data": {
      "text/plain": [
       "array([[12078,   715],\n",
       "       [ 2315,  5892]], dtype=int64)"
      ]
     },
     "execution_count": 38,
     "metadata": {},
     "output_type": "execute_result"
    }
   ],
   "source": [
    "confusion_matrix(y_test, predicted)"
   ]
  },
  {
   "cell_type": "code",
   "execution_count": 35,
   "metadata": {},
   "outputs": [
    {
     "name": "stdout",
     "output_type": "stream",
     "text": [
      "Regression Report:\n",
      "Mean Absolute Error (MAE): 0.1442857142857143\n",
      "Mean Squared Error (MSE): 0.1442857142857143\n",
      "Root Mean Squared Error (RMSE): 0.37984959429452375\n",
      "R-squared (R2): 0.393954696670611\n"
     ]
    },
    {
     "name": "stderr",
     "output_type": "stream",
     "text": [
      "c:\\Users\\Gen\\AppData\\Local\\Programs\\Python\\Python312\\Lib\\site-packages\\sklearn\\metrics\\_regression.py:492: FutureWarning: 'squared' is deprecated in version 1.4 and will be removed in 1.6. To calculate the root mean squared error, use the function'root_mean_squared_error'.\n",
      "  warnings.warn(\n"
     ]
    }
   ],
   "source": [
    "from sklearn.metrics import mean_absolute_error, mean_squared_error, r2_score\n",
    "mae = mean_absolute_error(y_test, predicted)\n",
    "mse = mean_squared_error(y_test, predicted)\n",
    "rmse = mean_squared_error(y_test, predicted, squared=False)\n",
    "r2 = r2_score(y_test, predicted)\n",
    "\n",
    "print(\"Regression Report:\")\n",
    "print(\"Mean Absolute Error (MAE):\", mae)\n",
    "print(\"Mean Squared Error (MSE):\", mse)\n",
    "print(\"Root Mean Squared Error (RMSE):\", rmse)\n",
    "print(\"R-squared (R2):\", r2)"
   ]
  },
  {
   "cell_type": "code",
   "execution_count": null,
   "metadata": {},
   "outputs": [],
   "source": []
  }
 ],
 "metadata": {
  "kernelspec": {
   "display_name": "Python 3",
   "language": "python",
   "name": "python3"
  },
  "language_info": {
   "codemirror_mode": {
    "name": "ipython",
    "version": 3
   },
   "file_extension": ".py",
   "mimetype": "text/x-python",
   "name": "python",
   "nbconvert_exporter": "python",
   "pygments_lexer": "ipython3",
   "version": "3.12.3"
  }
 },
 "nbformat": 4,
 "nbformat_minor": 2
}
